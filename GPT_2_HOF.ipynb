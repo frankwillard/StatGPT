{
  "cells": [
    {
      "cell_type": "markdown",
      "metadata": {
        "id": "view-in-github",
        "colab_type": "text"
      },
      "source": [
        "<a href=\"https://colab.research.google.com/github/frankwillard/StatGPT/blob/main/GPT_2_HOF.ipynb\" target=\"_parent\"><img src=\"https://colab.research.google.com/assets/colab-badge.svg\" alt=\"Open In Colab\"/></a>"
      ]
    },
    {
      "cell_type": "code",
      "execution_count": null,
      "metadata": {
        "colab": {
          "base_uri": "https://localhost:8080/"
        },
        "id": "cA641eyahgtX",
        "outputId": "57ddbd71-86e4-49ed-8e3d-b7dd7860c0c7"
      },
      "outputs": [
        {
          "output_type": "stream",
          "name": "stdout",
          "text": [
            "Requirement already satisfied: transformers[torch] in /usr/local/lib/python3.10/dist-packages (4.35.2)\n",
            "Requirement already satisfied: filelock in /usr/local/lib/python3.10/dist-packages (from transformers[torch]) (3.13.1)\n",
            "Requirement already satisfied: huggingface-hub<1.0,>=0.16.4 in /usr/local/lib/python3.10/dist-packages (from transformers[torch]) (0.19.4)\n",
            "Requirement already satisfied: numpy>=1.17 in /usr/local/lib/python3.10/dist-packages (from transformers[torch]) (1.23.5)\n",
            "Requirement already satisfied: packaging>=20.0 in /usr/local/lib/python3.10/dist-packages (from transformers[torch]) (23.2)\n",
            "Requirement already satisfied: pyyaml>=5.1 in /usr/local/lib/python3.10/dist-packages (from transformers[torch]) (6.0.1)\n",
            "Requirement already satisfied: regex!=2019.12.17 in /usr/local/lib/python3.10/dist-packages (from transformers[torch]) (2023.6.3)\n",
            "Requirement already satisfied: requests in /usr/local/lib/python3.10/dist-packages (from transformers[torch]) (2.31.0)\n",
            "Requirement already satisfied: tokenizers<0.19,>=0.14 in /usr/local/lib/python3.10/dist-packages (from transformers[torch]) (0.15.0)\n",
            "Requirement already satisfied: safetensors>=0.3.1 in /usr/local/lib/python3.10/dist-packages (from transformers[torch]) (0.4.0)\n",
            "Requirement already satisfied: tqdm>=4.27 in /usr/local/lib/python3.10/dist-packages (from transformers[torch]) (4.66.1)\n",
            "Requirement already satisfied: torch!=1.12.0,>=1.10 in /usr/local/lib/python3.10/dist-packages (from transformers[torch]) (2.1.0+cu118)\n",
            "Requirement already satisfied: accelerate>=0.20.3 in /usr/local/lib/python3.10/dist-packages (from transformers[torch]) (0.24.1)\n",
            "Requirement already satisfied: psutil in /usr/local/lib/python3.10/dist-packages (from accelerate>=0.20.3->transformers[torch]) (5.9.5)\n",
            "Requirement already satisfied: fsspec>=2023.5.0 in /usr/local/lib/python3.10/dist-packages (from huggingface-hub<1.0,>=0.16.4->transformers[torch]) (2023.6.0)\n",
            "Requirement already satisfied: typing-extensions>=3.7.4.3 in /usr/local/lib/python3.10/dist-packages (from huggingface-hub<1.0,>=0.16.4->transformers[torch]) (4.5.0)\n",
            "Requirement already satisfied: sympy in /usr/local/lib/python3.10/dist-packages (from torch!=1.12.0,>=1.10->transformers[torch]) (1.12)\n",
            "Requirement already satisfied: networkx in /usr/local/lib/python3.10/dist-packages (from torch!=1.12.0,>=1.10->transformers[torch]) (3.2.1)\n",
            "Requirement already satisfied: jinja2 in /usr/local/lib/python3.10/dist-packages (from torch!=1.12.0,>=1.10->transformers[torch]) (3.1.2)\n",
            "Requirement already satisfied: triton==2.1.0 in /usr/local/lib/python3.10/dist-packages (from torch!=1.12.0,>=1.10->transformers[torch]) (2.1.0)\n",
            "Requirement already satisfied: charset-normalizer<4,>=2 in /usr/local/lib/python3.10/dist-packages (from requests->transformers[torch]) (3.3.2)\n",
            "Requirement already satisfied: idna<4,>=2.5 in /usr/local/lib/python3.10/dist-packages (from requests->transformers[torch]) (3.4)\n",
            "Requirement already satisfied: urllib3<3,>=1.21.1 in /usr/local/lib/python3.10/dist-packages (from requests->transformers[torch]) (2.0.7)\n",
            "Requirement already satisfied: certifi>=2017.4.17 in /usr/local/lib/python3.10/dist-packages (from requests->transformers[torch]) (2023.7.22)\n",
            "Requirement already satisfied: MarkupSafe>=2.0 in /usr/local/lib/python3.10/dist-packages (from jinja2->torch!=1.12.0,>=1.10->transformers[torch]) (2.1.3)\n",
            "Requirement already satisfied: mpmath>=0.19 in /usr/local/lib/python3.10/dist-packages (from sympy->torch!=1.12.0,>=1.10->transformers[torch]) (1.3.0)\n"
          ]
        }
      ],
      "source": [
        "!pip install transformers[torch]"
      ]
    },
    {
      "cell_type": "markdown",
      "metadata": {
        "id": "0dQ091MTjquR"
      },
      "source": [
        "## Load In Libraries, Data"
      ]
    },
    {
      "cell_type": "code",
      "execution_count": null,
      "metadata": {
        "id": "pAMWZwpgjYnN"
      },
      "outputs": [],
      "source": [
        "import pandas as pd\n",
        "\n",
        "import torch\n",
        "from torch.utils.data import Dataset\n",
        "\n",
        "from transformers import GPT2Tokenizer, GPT2LMHeadModel, GPT2ForSequenceClassification, TrainingArguments, Trainer"
      ]
    },
    {
      "cell_type": "code",
      "execution_count": null,
      "metadata": {
        "id": "ZSUoovGAiAp4"
      },
      "outputs": [],
      "source": [
        "player_data = pd.read_csv('590.csv')"
      ]
    },
    {
      "cell_type": "code",
      "execution_count": null,
      "metadata": {
        "colab": {
          "base_uri": "https://localhost:8080/",
          "height": 429
        },
        "id": "Y7CNUj9StpGP",
        "outputId": "57bf9317-e84c-443c-8219-b0f480b1c00f"
      },
      "outputs": [
        {
          "output_type": "execute_result",
          "data": {
            "text/plain": [
              "   Unnamed: 0               Player  Eligible       Position  Hall_of_Fame  \\\n",
              "0           0       Alaa Abdelnaby         1   PowerForward             0   \n",
              "1           1      Zaid Abdul-Aziz         1         Center             0   \n",
              "2           2  Kareem Abdul-Jabbar         1         Center             1   \n",
              "3           3   Mahmoud Abdul-Rauf         1     PointGuard             0   \n",
              "4           4    Tariq Abdul-Wahad         1  ShootingGuard             0   \n",
              "\n",
              "   MVP  Finals_MVP  NBA_Champ  All_NBA  All_Defensive  ...  TS%_advanced  \\\n",
              "0    0           0          0        0              0  ...         0.532   \n",
              "1    0           0          0        0              0  ...         0.479   \n",
              "2    6           2          6       15             11  ...         0.592   \n",
              "3    0           0          0        0              0  ...         0.506   \n",
              "4    0           0          0        0              0  ...         0.467   \n",
              "\n",
              "   OWS_advanced  DWS_advanced  WS_advanced  WS/48_advanced  OBPM_advanced  \\\n",
              "0           0.7           4.1          4.8           0.072           -2.9   \n",
              "1           5.9          11.6         17.5           0.076            0.6   \n",
              "2         178.9          94.5        273.4           0.228            4.1   \n",
              "3          16.7           8.4         25.2           0.077            0.7   \n",
              "4          -0.6           4.1          3.5           0.035           -2.6   \n",
              "\n",
              "   DBPM_advanced  BPM_advanced  VORP_advanced  peak_ws_advanced  \n",
              "0           -0.9          -3.8           -1.5               2.1  \n",
              "1           -0.2           0.4            2.7               6.5  \n",
              "2            1.6           5.7           85.7              25.4  \n",
              "3           -1.5          -0.8            4.5               6.8  \n",
              "4           -0.4          -3.0           -1.2               2.2  \n",
              "\n",
              "[5 rows x 77 columns]"
            ],
            "text/html": [
              "\n",
              "  <div id=\"df-29ac32aa-9693-4f0d-9d3d-38b23cb05fda\" class=\"colab-df-container\">\n",
              "    <div>\n",
              "<style scoped>\n",
              "    .dataframe tbody tr th:only-of-type {\n",
              "        vertical-align: middle;\n",
              "    }\n",
              "\n",
              "    .dataframe tbody tr th {\n",
              "        vertical-align: top;\n",
              "    }\n",
              "\n",
              "    .dataframe thead th {\n",
              "        text-align: right;\n",
              "    }\n",
              "</style>\n",
              "<table border=\"1\" class=\"dataframe\">\n",
              "  <thead>\n",
              "    <tr style=\"text-align: right;\">\n",
              "      <th></th>\n",
              "      <th>Unnamed: 0</th>\n",
              "      <th>Player</th>\n",
              "      <th>Eligible</th>\n",
              "      <th>Position</th>\n",
              "      <th>Hall_of_Fame</th>\n",
              "      <th>MVP</th>\n",
              "      <th>Finals_MVP</th>\n",
              "      <th>NBA_Champ</th>\n",
              "      <th>All_NBA</th>\n",
              "      <th>All_Defensive</th>\n",
              "      <th>...</th>\n",
              "      <th>TS%_advanced</th>\n",
              "      <th>OWS_advanced</th>\n",
              "      <th>DWS_advanced</th>\n",
              "      <th>WS_advanced</th>\n",
              "      <th>WS/48_advanced</th>\n",
              "      <th>OBPM_advanced</th>\n",
              "      <th>DBPM_advanced</th>\n",
              "      <th>BPM_advanced</th>\n",
              "      <th>VORP_advanced</th>\n",
              "      <th>peak_ws_advanced</th>\n",
              "    </tr>\n",
              "  </thead>\n",
              "  <tbody>\n",
              "    <tr>\n",
              "      <th>0</th>\n",
              "      <td>0</td>\n",
              "      <td>Alaa Abdelnaby</td>\n",
              "      <td>1</td>\n",
              "      <td>PowerForward</td>\n",
              "      <td>0</td>\n",
              "      <td>0</td>\n",
              "      <td>0</td>\n",
              "      <td>0</td>\n",
              "      <td>0</td>\n",
              "      <td>0</td>\n",
              "      <td>...</td>\n",
              "      <td>0.532</td>\n",
              "      <td>0.7</td>\n",
              "      <td>4.1</td>\n",
              "      <td>4.8</td>\n",
              "      <td>0.072</td>\n",
              "      <td>-2.9</td>\n",
              "      <td>-0.9</td>\n",
              "      <td>-3.8</td>\n",
              "      <td>-1.5</td>\n",
              "      <td>2.1</td>\n",
              "    </tr>\n",
              "    <tr>\n",
              "      <th>1</th>\n",
              "      <td>1</td>\n",
              "      <td>Zaid Abdul-Aziz</td>\n",
              "      <td>1</td>\n",
              "      <td>Center</td>\n",
              "      <td>0</td>\n",
              "      <td>0</td>\n",
              "      <td>0</td>\n",
              "      <td>0</td>\n",
              "      <td>0</td>\n",
              "      <td>0</td>\n",
              "      <td>...</td>\n",
              "      <td>0.479</td>\n",
              "      <td>5.9</td>\n",
              "      <td>11.6</td>\n",
              "      <td>17.5</td>\n",
              "      <td>0.076</td>\n",
              "      <td>0.6</td>\n",
              "      <td>-0.2</td>\n",
              "      <td>0.4</td>\n",
              "      <td>2.7</td>\n",
              "      <td>6.5</td>\n",
              "    </tr>\n",
              "    <tr>\n",
              "      <th>2</th>\n",
              "      <td>2</td>\n",
              "      <td>Kareem Abdul-Jabbar</td>\n",
              "      <td>1</td>\n",
              "      <td>Center</td>\n",
              "      <td>1</td>\n",
              "      <td>6</td>\n",
              "      <td>2</td>\n",
              "      <td>6</td>\n",
              "      <td>15</td>\n",
              "      <td>11</td>\n",
              "      <td>...</td>\n",
              "      <td>0.592</td>\n",
              "      <td>178.9</td>\n",
              "      <td>94.5</td>\n",
              "      <td>273.4</td>\n",
              "      <td>0.228</td>\n",
              "      <td>4.1</td>\n",
              "      <td>1.6</td>\n",
              "      <td>5.7</td>\n",
              "      <td>85.7</td>\n",
              "      <td>25.4</td>\n",
              "    </tr>\n",
              "    <tr>\n",
              "      <th>3</th>\n",
              "      <td>3</td>\n",
              "      <td>Mahmoud Abdul-Rauf</td>\n",
              "      <td>1</td>\n",
              "      <td>PointGuard</td>\n",
              "      <td>0</td>\n",
              "      <td>0</td>\n",
              "      <td>0</td>\n",
              "      <td>0</td>\n",
              "      <td>0</td>\n",
              "      <td>0</td>\n",
              "      <td>...</td>\n",
              "      <td>0.506</td>\n",
              "      <td>16.7</td>\n",
              "      <td>8.4</td>\n",
              "      <td>25.2</td>\n",
              "      <td>0.077</td>\n",
              "      <td>0.7</td>\n",
              "      <td>-1.5</td>\n",
              "      <td>-0.8</td>\n",
              "      <td>4.5</td>\n",
              "      <td>6.8</td>\n",
              "    </tr>\n",
              "    <tr>\n",
              "      <th>4</th>\n",
              "      <td>4</td>\n",
              "      <td>Tariq Abdul-Wahad</td>\n",
              "      <td>1</td>\n",
              "      <td>ShootingGuard</td>\n",
              "      <td>0</td>\n",
              "      <td>0</td>\n",
              "      <td>0</td>\n",
              "      <td>0</td>\n",
              "      <td>0</td>\n",
              "      <td>0</td>\n",
              "      <td>...</td>\n",
              "      <td>0.467</td>\n",
              "      <td>-0.6</td>\n",
              "      <td>4.1</td>\n",
              "      <td>3.5</td>\n",
              "      <td>0.035</td>\n",
              "      <td>-2.6</td>\n",
              "      <td>-0.4</td>\n",
              "      <td>-3.0</td>\n",
              "      <td>-1.2</td>\n",
              "      <td>2.2</td>\n",
              "    </tr>\n",
              "  </tbody>\n",
              "</table>\n",
              "<p>5 rows × 77 columns</p>\n",
              "</div>\n",
              "    <div class=\"colab-df-buttons\">\n",
              "\n",
              "  <div class=\"colab-df-container\">\n",
              "    <button class=\"colab-df-convert\" onclick=\"convertToInteractive('df-29ac32aa-9693-4f0d-9d3d-38b23cb05fda')\"\n",
              "            title=\"Convert this dataframe to an interactive table.\"\n",
              "            style=\"display:none;\">\n",
              "\n",
              "  <svg xmlns=\"http://www.w3.org/2000/svg\" height=\"24px\" viewBox=\"0 -960 960 960\">\n",
              "    <path d=\"M120-120v-720h720v720H120Zm60-500h600v-160H180v160Zm220 220h160v-160H400v160Zm0 220h160v-160H400v160ZM180-400h160v-160H180v160Zm440 0h160v-160H620v160ZM180-180h160v-160H180v160Zm440 0h160v-160H620v160Z\"/>\n",
              "  </svg>\n",
              "    </button>\n",
              "\n",
              "  <style>\n",
              "    .colab-df-container {\n",
              "      display:flex;\n",
              "      gap: 12px;\n",
              "    }\n",
              "\n",
              "    .colab-df-convert {\n",
              "      background-color: #E8F0FE;\n",
              "      border: none;\n",
              "      border-radius: 50%;\n",
              "      cursor: pointer;\n",
              "      display: none;\n",
              "      fill: #1967D2;\n",
              "      height: 32px;\n",
              "      padding: 0 0 0 0;\n",
              "      width: 32px;\n",
              "    }\n",
              "\n",
              "    .colab-df-convert:hover {\n",
              "      background-color: #E2EBFA;\n",
              "      box-shadow: 0px 1px 2px rgba(60, 64, 67, 0.3), 0px 1px 3px 1px rgba(60, 64, 67, 0.15);\n",
              "      fill: #174EA6;\n",
              "    }\n",
              "\n",
              "    .colab-df-buttons div {\n",
              "      margin-bottom: 4px;\n",
              "    }\n",
              "\n",
              "    [theme=dark] .colab-df-convert {\n",
              "      background-color: #3B4455;\n",
              "      fill: #D2E3FC;\n",
              "    }\n",
              "\n",
              "    [theme=dark] .colab-df-convert:hover {\n",
              "      background-color: #434B5C;\n",
              "      box-shadow: 0px 1px 3px 1px rgba(0, 0, 0, 0.15);\n",
              "      filter: drop-shadow(0px 1px 2px rgba(0, 0, 0, 0.3));\n",
              "      fill: #FFFFFF;\n",
              "    }\n",
              "  </style>\n",
              "\n",
              "    <script>\n",
              "      const buttonEl =\n",
              "        document.querySelector('#df-29ac32aa-9693-4f0d-9d3d-38b23cb05fda button.colab-df-convert');\n",
              "      buttonEl.style.display =\n",
              "        google.colab.kernel.accessAllowed ? 'block' : 'none';\n",
              "\n",
              "      async function convertToInteractive(key) {\n",
              "        const element = document.querySelector('#df-29ac32aa-9693-4f0d-9d3d-38b23cb05fda');\n",
              "        const dataTable =\n",
              "          await google.colab.kernel.invokeFunction('convertToInteractive',\n",
              "                                                    [key], {});\n",
              "        if (!dataTable) return;\n",
              "\n",
              "        const docLinkHtml = 'Like what you see? Visit the ' +\n",
              "          '<a target=\"_blank\" href=https://colab.research.google.com/notebooks/data_table.ipynb>data table notebook</a>'\n",
              "          + ' to learn more about interactive tables.';\n",
              "        element.innerHTML = '';\n",
              "        dataTable['output_type'] = 'display_data';\n",
              "        await google.colab.output.renderOutput(dataTable, element);\n",
              "        const docLink = document.createElement('div');\n",
              "        docLink.innerHTML = docLinkHtml;\n",
              "        element.appendChild(docLink);\n",
              "      }\n",
              "    </script>\n",
              "  </div>\n",
              "\n",
              "\n",
              "<div id=\"df-40f83fc1-2eef-43fd-aac1-7a52a611c1a0\">\n",
              "  <button class=\"colab-df-quickchart\" onclick=\"quickchart('df-40f83fc1-2eef-43fd-aac1-7a52a611c1a0')\"\n",
              "            title=\"Suggest charts\"\n",
              "            style=\"display:none;\">\n",
              "\n",
              "<svg xmlns=\"http://www.w3.org/2000/svg\" height=\"24px\"viewBox=\"0 0 24 24\"\n",
              "     width=\"24px\">\n",
              "    <g>\n",
              "        <path d=\"M19 3H5c-1.1 0-2 .9-2 2v14c0 1.1.9 2 2 2h14c1.1 0 2-.9 2-2V5c0-1.1-.9-2-2-2zM9 17H7v-7h2v7zm4 0h-2V7h2v10zm4 0h-2v-4h2v4z\"/>\n",
              "    </g>\n",
              "</svg>\n",
              "  </button>\n",
              "\n",
              "<style>\n",
              "  .colab-df-quickchart {\n",
              "      --bg-color: #E8F0FE;\n",
              "      --fill-color: #1967D2;\n",
              "      --hover-bg-color: #E2EBFA;\n",
              "      --hover-fill-color: #174EA6;\n",
              "      --disabled-fill-color: #AAA;\n",
              "      --disabled-bg-color: #DDD;\n",
              "  }\n",
              "\n",
              "  [theme=dark] .colab-df-quickchart {\n",
              "      --bg-color: #3B4455;\n",
              "      --fill-color: #D2E3FC;\n",
              "      --hover-bg-color: #434B5C;\n",
              "      --hover-fill-color: #FFFFFF;\n",
              "      --disabled-bg-color: #3B4455;\n",
              "      --disabled-fill-color: #666;\n",
              "  }\n",
              "\n",
              "  .colab-df-quickchart {\n",
              "    background-color: var(--bg-color);\n",
              "    border: none;\n",
              "    border-radius: 50%;\n",
              "    cursor: pointer;\n",
              "    display: none;\n",
              "    fill: var(--fill-color);\n",
              "    height: 32px;\n",
              "    padding: 0;\n",
              "    width: 32px;\n",
              "  }\n",
              "\n",
              "  .colab-df-quickchart:hover {\n",
              "    background-color: var(--hover-bg-color);\n",
              "    box-shadow: 0 1px 2px rgba(60, 64, 67, 0.3), 0 1px 3px 1px rgba(60, 64, 67, 0.15);\n",
              "    fill: var(--button-hover-fill-color);\n",
              "  }\n",
              "\n",
              "  .colab-df-quickchart-complete:disabled,\n",
              "  .colab-df-quickchart-complete:disabled:hover {\n",
              "    background-color: var(--disabled-bg-color);\n",
              "    fill: var(--disabled-fill-color);\n",
              "    box-shadow: none;\n",
              "  }\n",
              "\n",
              "  .colab-df-spinner {\n",
              "    border: 2px solid var(--fill-color);\n",
              "    border-color: transparent;\n",
              "    border-bottom-color: var(--fill-color);\n",
              "    animation:\n",
              "      spin 1s steps(1) infinite;\n",
              "  }\n",
              "\n",
              "  @keyframes spin {\n",
              "    0% {\n",
              "      border-color: transparent;\n",
              "      border-bottom-color: var(--fill-color);\n",
              "      border-left-color: var(--fill-color);\n",
              "    }\n",
              "    20% {\n",
              "      border-color: transparent;\n",
              "      border-left-color: var(--fill-color);\n",
              "      border-top-color: var(--fill-color);\n",
              "    }\n",
              "    30% {\n",
              "      border-color: transparent;\n",
              "      border-left-color: var(--fill-color);\n",
              "      border-top-color: var(--fill-color);\n",
              "      border-right-color: var(--fill-color);\n",
              "    }\n",
              "    40% {\n",
              "      border-color: transparent;\n",
              "      border-right-color: var(--fill-color);\n",
              "      border-top-color: var(--fill-color);\n",
              "    }\n",
              "    60% {\n",
              "      border-color: transparent;\n",
              "      border-right-color: var(--fill-color);\n",
              "    }\n",
              "    80% {\n",
              "      border-color: transparent;\n",
              "      border-right-color: var(--fill-color);\n",
              "      border-bottom-color: var(--fill-color);\n",
              "    }\n",
              "    90% {\n",
              "      border-color: transparent;\n",
              "      border-bottom-color: var(--fill-color);\n",
              "    }\n",
              "  }\n",
              "</style>\n",
              "\n",
              "  <script>\n",
              "    async function quickchart(key) {\n",
              "      const quickchartButtonEl =\n",
              "        document.querySelector('#' + key + ' button');\n",
              "      quickchartButtonEl.disabled = true;  // To prevent multiple clicks.\n",
              "      quickchartButtonEl.classList.add('colab-df-spinner');\n",
              "      try {\n",
              "        const charts = await google.colab.kernel.invokeFunction(\n",
              "            'suggestCharts', [key], {});\n",
              "      } catch (error) {\n",
              "        console.error('Error during call to suggestCharts:', error);\n",
              "      }\n",
              "      quickchartButtonEl.classList.remove('colab-df-spinner');\n",
              "      quickchartButtonEl.classList.add('colab-df-quickchart-complete');\n",
              "    }\n",
              "    (() => {\n",
              "      let quickchartButtonEl =\n",
              "        document.querySelector('#df-40f83fc1-2eef-43fd-aac1-7a52a611c1a0 button');\n",
              "      quickchartButtonEl.style.display =\n",
              "        google.colab.kernel.accessAllowed ? 'block' : 'none';\n",
              "    })();\n",
              "  </script>\n",
              "</div>\n",
              "    </div>\n",
              "  </div>\n"
            ]
          },
          "metadata": {},
          "execution_count": 63
        }
      ],
      "source": [
        "player_data.head()"
      ]
    },
    {
      "cell_type": "code",
      "execution_count": null,
      "metadata": {
        "colab": {
          "base_uri": "https://localhost:8080/"
        },
        "id": "ZQBim7QFiOHN",
        "outputId": "af25517d-41a2-43fe-c08c-fe0c99a5a1c8"
      },
      "outputs": [
        {
          "output_type": "stream",
          "name": "stderr",
          "text": [
            "<ipython-input-64-29ae3e33e66a>:3: SettingWithCopyWarning: \n",
            "A value is trying to be set on a copy of a slice from a DataFrame\n",
            "\n",
            "See the caveats in the documentation: https://pandas.pydata.org/pandas-docs/stable/user_guide/indexing.html#returning-a-view-versus-a-copy\n",
            "  df.rename(columns={'PTS_per_game': 'Points', 'TRB_per_game': 'Rebounds', 'AST_per_game': 'Assists', 'STL_per_game': 'Steals', 'BLK_per_game': 'Blocks', \"VORP_advanced\" : \"vorp\"}, inplace=True)\n",
            "<ipython-input-64-29ae3e33e66a>:17: UserWarning: Boolean Series key will be reindexed to match DataFrame index.\n",
            "  df = df[cond2]\n"
          ]
        }
      ],
      "source": [
        "df = player_data[[\"Player\", \"PTS_per_game\", \"TRB_per_game\" , \"AST_per_game\" , \"STL_per_game\" ,\"BLK_per_game\", \"VORP_advanced\"]]\n",
        "\n",
        "df.rename(columns={'PTS_per_game': 'Points', 'TRB_per_game': 'Rebounds', 'AST_per_game': 'Assists', 'STL_per_game': 'Steals', 'BLK_per_game': 'Blocks', \"VORP_advanced\" : \"vorp\"}, inplace=True)\n",
        "\n",
        "\n",
        "# Convert all columns to integer type\n",
        "df = df.astype(float, errors='ignore')\n",
        "\n",
        "\n",
        "cond1 = (df[\"Points\"] < 99) & (df[\"Rebounds\"] < 99) & (df[\"Assists\"] < 99) & (df[\"Steals\"] < 99) & (df[\"Blocks\"] < 99)\n",
        "\n",
        "cond2 = (df[\"Points\"] > 0) & (df[\"Rebounds\"] > 0) & (df[\"Assists\"] > 0) & (df[\"Steals\"] > 0) & (df[\"Blocks\"] > 0)\n",
        "\n",
        "\n",
        "\n",
        "df = df[cond1]\n",
        "df = df[cond2]\n",
        "\n",
        "df.to_csv('players_stats.csv', index=False)\n",
        "\n",
        "#player_data = player_data[cond]\n"
      ]
    },
    {
      "cell_type": "code",
      "execution_count": null,
      "metadata": {
        "id": "a8kaToPeVQwf"
      },
      "outputs": [],
      "source": [
        "# all_nba = player_data[[\"Player\", \"All_NBA\"]]\n",
        "# all_nba.rename(columns={\"All_NBA\": 'allnba'}, inplace=True)\n",
        "\n",
        "# all_nba =  all_nba[all_nba[\"Player\"].isin(df[\"Player\"])]\n",
        "# all_nba.to_csv('all_nba.csv', index=False)"
      ]
    },
    {
      "cell_type": "code",
      "execution_count": null,
      "metadata": {
        "id": "eXJC7bfwWKvS"
      },
      "outputs": [],
      "source": [
        "# vorp = player_data[[\"Player\", \"VORP_advanced\"]]\n",
        "# vorp.rename(columns={\"VORP_advanced\": 'vorp'}, inplace=True)\n",
        "# vorp =  vorp[vorp[\"Player\"].isin(df[\"Player\"])]\n",
        "# vorp.head()\n",
        "# vorp.to_csv('vorp.csv', index=False)\n",
        "\n",
        "\n",
        "# vorp['vorp'] = vorp['vorp'].apply(lambda x: 0 if x <= 0 else 1)\n",
        "# vorp.to_csv('vorp_binary.csv', index=False)"
      ]
    },
    {
      "cell_type": "code",
      "source": [
        "hof = player_data[[\"Player\", \"Hall_of_Fame\"]]\n",
        "hof.rename(columns={\"Hall_of_Fame\": 'hof'}, inplace=True)\n",
        "len(hof)"
      ],
      "metadata": {
        "colab": {
          "base_uri": "https://localhost:8080/"
        },
        "id": "y-l7tsdraEIJ",
        "outputId": "7cbede3c-dfea-4076-b5b3-a83a48b21adf"
      },
      "execution_count": null,
      "outputs": [
        {
          "output_type": "stream",
          "name": "stderr",
          "text": [
            "<ipython-input-67-bdb431e677e9>:2: SettingWithCopyWarning: \n",
            "A value is trying to be set on a copy of a slice from a DataFrame\n",
            "\n",
            "See the caveats in the documentation: https://pandas.pydata.org/pandas-docs/stable/user_guide/indexing.html#returning-a-view-versus-a-copy\n",
            "  hof.rename(columns={\"Hall_of_Fame\": 'hof'}, inplace=True)\n"
          ]
        },
        {
          "output_type": "execute_result",
          "data": {
            "text/plain": [
              "5062"
            ]
          },
          "metadata": {},
          "execution_count": 67
        }
      ]
    },
    {
      "cell_type": "code",
      "source": [
        "hof =  hof[hof[\"Player\"].isin(df[\"Player\"])]"
      ],
      "metadata": {
        "id": "9K__5RSKaaRK"
      },
      "execution_count": null,
      "outputs": []
    },
    {
      "cell_type": "code",
      "source": [
        "hof.head()"
      ],
      "metadata": {
        "colab": {
          "base_uri": "https://localhost:8080/",
          "height": 206
        },
        "id": "5Ca6ImLtaUTV",
        "outputId": "ffeaacc2-28b6-47fd-9cd4-e01cd093f93e"
      },
      "execution_count": null,
      "outputs": [
        {
          "output_type": "execute_result",
          "data": {
            "text/plain": [
              "                Player  hof\n",
              "0       Alaa Abdelnaby    0\n",
              "1      Zaid Abdul-Aziz    0\n",
              "2  Kareem Abdul-Jabbar    1\n",
              "3   Mahmoud Abdul-Rauf    0\n",
              "4    Tariq Abdul-Wahad    0"
            ],
            "text/html": [
              "\n",
              "  <div id=\"df-68a757f7-9239-4e8c-9106-395cb7376cbc\" class=\"colab-df-container\">\n",
              "    <div>\n",
              "<style scoped>\n",
              "    .dataframe tbody tr th:only-of-type {\n",
              "        vertical-align: middle;\n",
              "    }\n",
              "\n",
              "    .dataframe tbody tr th {\n",
              "        vertical-align: top;\n",
              "    }\n",
              "\n",
              "    .dataframe thead th {\n",
              "        text-align: right;\n",
              "    }\n",
              "</style>\n",
              "<table border=\"1\" class=\"dataframe\">\n",
              "  <thead>\n",
              "    <tr style=\"text-align: right;\">\n",
              "      <th></th>\n",
              "      <th>Player</th>\n",
              "      <th>hof</th>\n",
              "    </tr>\n",
              "  </thead>\n",
              "  <tbody>\n",
              "    <tr>\n",
              "      <th>0</th>\n",
              "      <td>Alaa Abdelnaby</td>\n",
              "      <td>0</td>\n",
              "    </tr>\n",
              "    <tr>\n",
              "      <th>1</th>\n",
              "      <td>Zaid Abdul-Aziz</td>\n",
              "      <td>0</td>\n",
              "    </tr>\n",
              "    <tr>\n",
              "      <th>2</th>\n",
              "      <td>Kareem Abdul-Jabbar</td>\n",
              "      <td>1</td>\n",
              "    </tr>\n",
              "    <tr>\n",
              "      <th>3</th>\n",
              "      <td>Mahmoud Abdul-Rauf</td>\n",
              "      <td>0</td>\n",
              "    </tr>\n",
              "    <tr>\n",
              "      <th>4</th>\n",
              "      <td>Tariq Abdul-Wahad</td>\n",
              "      <td>0</td>\n",
              "    </tr>\n",
              "  </tbody>\n",
              "</table>\n",
              "</div>\n",
              "    <div class=\"colab-df-buttons\">\n",
              "\n",
              "  <div class=\"colab-df-container\">\n",
              "    <button class=\"colab-df-convert\" onclick=\"convertToInteractive('df-68a757f7-9239-4e8c-9106-395cb7376cbc')\"\n",
              "            title=\"Convert this dataframe to an interactive table.\"\n",
              "            style=\"display:none;\">\n",
              "\n",
              "  <svg xmlns=\"http://www.w3.org/2000/svg\" height=\"24px\" viewBox=\"0 -960 960 960\">\n",
              "    <path d=\"M120-120v-720h720v720H120Zm60-500h600v-160H180v160Zm220 220h160v-160H400v160Zm0 220h160v-160H400v160ZM180-400h160v-160H180v160Zm440 0h160v-160H620v160ZM180-180h160v-160H180v160Zm440 0h160v-160H620v160Z\"/>\n",
              "  </svg>\n",
              "    </button>\n",
              "\n",
              "  <style>\n",
              "    .colab-df-container {\n",
              "      display:flex;\n",
              "      gap: 12px;\n",
              "    }\n",
              "\n",
              "    .colab-df-convert {\n",
              "      background-color: #E8F0FE;\n",
              "      border: none;\n",
              "      border-radius: 50%;\n",
              "      cursor: pointer;\n",
              "      display: none;\n",
              "      fill: #1967D2;\n",
              "      height: 32px;\n",
              "      padding: 0 0 0 0;\n",
              "      width: 32px;\n",
              "    }\n",
              "\n",
              "    .colab-df-convert:hover {\n",
              "      background-color: #E2EBFA;\n",
              "      box-shadow: 0px 1px 2px rgba(60, 64, 67, 0.3), 0px 1px 3px 1px rgba(60, 64, 67, 0.15);\n",
              "      fill: #174EA6;\n",
              "    }\n",
              "\n",
              "    .colab-df-buttons div {\n",
              "      margin-bottom: 4px;\n",
              "    }\n",
              "\n",
              "    [theme=dark] .colab-df-convert {\n",
              "      background-color: #3B4455;\n",
              "      fill: #D2E3FC;\n",
              "    }\n",
              "\n",
              "    [theme=dark] .colab-df-convert:hover {\n",
              "      background-color: #434B5C;\n",
              "      box-shadow: 0px 1px 3px 1px rgba(0, 0, 0, 0.15);\n",
              "      filter: drop-shadow(0px 1px 2px rgba(0, 0, 0, 0.3));\n",
              "      fill: #FFFFFF;\n",
              "    }\n",
              "  </style>\n",
              "\n",
              "    <script>\n",
              "      const buttonEl =\n",
              "        document.querySelector('#df-68a757f7-9239-4e8c-9106-395cb7376cbc button.colab-df-convert');\n",
              "      buttonEl.style.display =\n",
              "        google.colab.kernel.accessAllowed ? 'block' : 'none';\n",
              "\n",
              "      async function convertToInteractive(key) {\n",
              "        const element = document.querySelector('#df-68a757f7-9239-4e8c-9106-395cb7376cbc');\n",
              "        const dataTable =\n",
              "          await google.colab.kernel.invokeFunction('convertToInteractive',\n",
              "                                                    [key], {});\n",
              "        if (!dataTable) return;\n",
              "\n",
              "        const docLinkHtml = 'Like what you see? Visit the ' +\n",
              "          '<a target=\"_blank\" href=https://colab.research.google.com/notebooks/data_table.ipynb>data table notebook</a>'\n",
              "          + ' to learn more about interactive tables.';\n",
              "        element.innerHTML = '';\n",
              "        dataTable['output_type'] = 'display_data';\n",
              "        await google.colab.output.renderOutput(dataTable, element);\n",
              "        const docLink = document.createElement('div');\n",
              "        docLink.innerHTML = docLinkHtml;\n",
              "        element.appendChild(docLink);\n",
              "      }\n",
              "    </script>\n",
              "  </div>\n",
              "\n",
              "\n",
              "<div id=\"df-04d0387f-85f8-4ce0-97b5-91dcedbf7444\">\n",
              "  <button class=\"colab-df-quickchart\" onclick=\"quickchart('df-04d0387f-85f8-4ce0-97b5-91dcedbf7444')\"\n",
              "            title=\"Suggest charts\"\n",
              "            style=\"display:none;\">\n",
              "\n",
              "<svg xmlns=\"http://www.w3.org/2000/svg\" height=\"24px\"viewBox=\"0 0 24 24\"\n",
              "     width=\"24px\">\n",
              "    <g>\n",
              "        <path d=\"M19 3H5c-1.1 0-2 .9-2 2v14c0 1.1.9 2 2 2h14c1.1 0 2-.9 2-2V5c0-1.1-.9-2-2-2zM9 17H7v-7h2v7zm4 0h-2V7h2v10zm4 0h-2v-4h2v4z\"/>\n",
              "    </g>\n",
              "</svg>\n",
              "  </button>\n",
              "\n",
              "<style>\n",
              "  .colab-df-quickchart {\n",
              "      --bg-color: #E8F0FE;\n",
              "      --fill-color: #1967D2;\n",
              "      --hover-bg-color: #E2EBFA;\n",
              "      --hover-fill-color: #174EA6;\n",
              "      --disabled-fill-color: #AAA;\n",
              "      --disabled-bg-color: #DDD;\n",
              "  }\n",
              "\n",
              "  [theme=dark] .colab-df-quickchart {\n",
              "      --bg-color: #3B4455;\n",
              "      --fill-color: #D2E3FC;\n",
              "      --hover-bg-color: #434B5C;\n",
              "      --hover-fill-color: #FFFFFF;\n",
              "      --disabled-bg-color: #3B4455;\n",
              "      --disabled-fill-color: #666;\n",
              "  }\n",
              "\n",
              "  .colab-df-quickchart {\n",
              "    background-color: var(--bg-color);\n",
              "    border: none;\n",
              "    border-radius: 50%;\n",
              "    cursor: pointer;\n",
              "    display: none;\n",
              "    fill: var(--fill-color);\n",
              "    height: 32px;\n",
              "    padding: 0;\n",
              "    width: 32px;\n",
              "  }\n",
              "\n",
              "  .colab-df-quickchart:hover {\n",
              "    background-color: var(--hover-bg-color);\n",
              "    box-shadow: 0 1px 2px rgba(60, 64, 67, 0.3), 0 1px 3px 1px rgba(60, 64, 67, 0.15);\n",
              "    fill: var(--button-hover-fill-color);\n",
              "  }\n",
              "\n",
              "  .colab-df-quickchart-complete:disabled,\n",
              "  .colab-df-quickchart-complete:disabled:hover {\n",
              "    background-color: var(--disabled-bg-color);\n",
              "    fill: var(--disabled-fill-color);\n",
              "    box-shadow: none;\n",
              "  }\n",
              "\n",
              "  .colab-df-spinner {\n",
              "    border: 2px solid var(--fill-color);\n",
              "    border-color: transparent;\n",
              "    border-bottom-color: var(--fill-color);\n",
              "    animation:\n",
              "      spin 1s steps(1) infinite;\n",
              "  }\n",
              "\n",
              "  @keyframes spin {\n",
              "    0% {\n",
              "      border-color: transparent;\n",
              "      border-bottom-color: var(--fill-color);\n",
              "      border-left-color: var(--fill-color);\n",
              "    }\n",
              "    20% {\n",
              "      border-color: transparent;\n",
              "      border-left-color: var(--fill-color);\n",
              "      border-top-color: var(--fill-color);\n",
              "    }\n",
              "    30% {\n",
              "      border-color: transparent;\n",
              "      border-left-color: var(--fill-color);\n",
              "      border-top-color: var(--fill-color);\n",
              "      border-right-color: var(--fill-color);\n",
              "    }\n",
              "    40% {\n",
              "      border-color: transparent;\n",
              "      border-right-color: var(--fill-color);\n",
              "      border-top-color: var(--fill-color);\n",
              "    }\n",
              "    60% {\n",
              "      border-color: transparent;\n",
              "      border-right-color: var(--fill-color);\n",
              "    }\n",
              "    80% {\n",
              "      border-color: transparent;\n",
              "      border-right-color: var(--fill-color);\n",
              "      border-bottom-color: var(--fill-color);\n",
              "    }\n",
              "    90% {\n",
              "      border-color: transparent;\n",
              "      border-bottom-color: var(--fill-color);\n",
              "    }\n",
              "  }\n",
              "</style>\n",
              "\n",
              "  <script>\n",
              "    async function quickchart(key) {\n",
              "      const quickchartButtonEl =\n",
              "        document.querySelector('#' + key + ' button');\n",
              "      quickchartButtonEl.disabled = true;  // To prevent multiple clicks.\n",
              "      quickchartButtonEl.classList.add('colab-df-spinner');\n",
              "      try {\n",
              "        const charts = await google.colab.kernel.invokeFunction(\n",
              "            'suggestCharts', [key], {});\n",
              "      } catch (error) {\n",
              "        console.error('Error during call to suggestCharts:', error);\n",
              "      }\n",
              "      quickchartButtonEl.classList.remove('colab-df-spinner');\n",
              "      quickchartButtonEl.classList.add('colab-df-quickchart-complete');\n",
              "    }\n",
              "    (() => {\n",
              "      let quickchartButtonEl =\n",
              "        document.querySelector('#df-04d0387f-85f8-4ce0-97b5-91dcedbf7444 button');\n",
              "      quickchartButtonEl.style.display =\n",
              "        google.colab.kernel.accessAllowed ? 'block' : 'none';\n",
              "    })();\n",
              "  </script>\n",
              "</div>\n",
              "    </div>\n",
              "  </div>\n"
            ]
          },
          "metadata": {},
          "execution_count": 69
        }
      ]
    },
    {
      "cell_type": "code",
      "source": [
        "len(hof)"
      ],
      "metadata": {
        "colab": {
          "base_uri": "https://localhost:8080/"
        },
        "id": "5T9pL0i9aW6K",
        "outputId": "36242c87-2795-41be-b819-e91ee822ed25"
      },
      "execution_count": null,
      "outputs": [
        {
          "output_type": "execute_result",
          "data": {
            "text/plain": [
              "3093"
            ]
          },
          "metadata": {},
          "execution_count": 70
        }
      ]
    },
    {
      "cell_type": "code",
      "source": [
        "hof.to_csv('hof_binary.csv', index=False)"
      ],
      "metadata": {
        "id": "wB_y3TDVahJe"
      },
      "execution_count": null,
      "outputs": []
    },
    {
      "cell_type": "code",
      "source": [
        "# vorp.to_csv('vorp.csv', index=False)"
      ],
      "metadata": {
        "id": "3xzUcFaMaYMt"
      },
      "execution_count": null,
      "outputs": []
    },
    {
      "cell_type": "code",
      "execution_count": null,
      "metadata": {
        "id": "P5SVoPuYanR-"
      },
      "outputs": [],
      "source": [
        "# vorp['vorp'] = vorp['vorp'].apply(lambda x: 0 if x <= 0 else 1)\n",
        "# vorp.to_csv('vorp_binary.csv', index=False)"
      ]
    },
    {
      "cell_type": "code",
      "execution_count": null,
      "metadata": {
        "id": "zXPz3iBpuVS2"
      },
      "outputs": [],
      "source": []
    },
    {
      "cell_type": "code",
      "execution_count": null,
      "metadata": {
        "id": "NjeorMpqWk68"
      },
      "outputs": [],
      "source": [
        "# df['vorp'] = vorp['vorp'].apply(lambda x: 0 if x <= 0 else 1)\n",
        "# df['vorp'] = vorp['vorp'].apply(lambda x: 0 if x <= 0 else 1)"
      ]
    },
    {
      "cell_type": "markdown",
      "metadata": {
        "id": "HHv-zQ_-jwJc"
      },
      "source": [
        "## Define Train/Test Split"
      ]
    },
    {
      "cell_type": "code",
      "execution_count": null,
      "metadata": {
        "id": "s4veT89Hj1jz"
      },
      "outputs": [],
      "source": [
        "player_stats = pd.read_csv('players_stats.csv')\n",
        "# vorp = pd.read_csv('vorp_binary.csv')\n",
        "hof = pd.read_csv('hof_binary.csv')"
      ]
    },
    {
      "cell_type": "code",
      "execution_count": null,
      "metadata": {
        "id": "gk-iXgS-b-fS"
      },
      "outputs": [],
      "source": [
        "# prompt: players_stats and vorp have the same players, randomly split the dataset into train and test sets where player_stats are the input and vorp is the label. Players in both sets should be the same. Set the indexing of the pd df to start from 0\n",
        "\n",
        "from sklearn.model_selection import train_test_split\n",
        "train_data, test_data, train_labels, test_labels = train_test_split(player_stats, hof, test_size=0.25, random_state=42)\n",
        "\n",
        "train_data.index = range(len(train_data))\n",
        "train_labels.index = range(len(train_labels))\n",
        "test_data.index = range(len(test_data))\n",
        "test_labels.index = range(len(test_labels))\n"
      ]
    },
    {
      "cell_type": "code",
      "execution_count": null,
      "metadata": {
        "id": "VhFgg_rkjdg5"
      },
      "outputs": [],
      "source": []
    },
    {
      "cell_type": "markdown",
      "metadata": {
        "id": "M6_uYijTisK4"
      },
      "source": [
        "## Convert Tabular Data to Text Input"
      ]
    },
    {
      "cell_type": "code",
      "execution_count": null,
      "metadata": {
        "id": "zf4rfPOxiUxW"
      },
      "outputs": [],
      "source": [
        "training_inputs = []\n",
        "for index, row in train_data.iterrows():\n",
        "  # Will include more in future\n",
        "  train_input = f\"{row['Player']} has Points: {row['Points']}, Rebounds: {row['Rebounds']}, Assists: {row['Assists']}, Steals: {row['Steals']}, Blocks: {row['Blocks']}\"\n",
        "  training_inputs.append(train_input)\n",
        "\n",
        "training_labels = []\n",
        "for _,row in train_labels.iterrows():\n",
        "  # Will include more in future\n",
        "  train_label = f\"{row['hof']}\"\n",
        "  training_labels.append(int(train_label))"
      ]
    },
    {
      "cell_type": "code",
      "execution_count": null,
      "metadata": {
        "id": "c2o_QT3uj-Fo"
      },
      "outputs": [],
      "source": [
        "# Initialize empty lists for test inputs and labels\n",
        "testing_inputs = []\n",
        "testing_labels = []\n",
        "\n",
        "# Loop through test_data for inputs\n",
        "for index, row in test_data.iterrows():\n",
        "    # Will include more in the future\n",
        "    test_input = f\"{row['Player']} has Points: {row['Points']}, Rebounds: {row['Rebounds']}, Assists: {row['Assists']}, Steals: {row['Steals']}, Blocks: {row['Blocks']}\"\n",
        "    testing_inputs.append(test_input)\n",
        "\n",
        "# Loop through test_labels for labels\n",
        "for _, row in test_labels.iterrows():\n",
        "    # Will include more in the future\n",
        "    test_label = f\"{row['hof']}\"\n",
        "    testing_labels.append(int(test_label))\n"
      ]
    },
    {
      "cell_type": "code",
      "execution_count": null,
      "metadata": {
        "colab": {
          "base_uri": "https://localhost:8080/"
        },
        "id": "cAvMKsrEjVkz",
        "outputId": "9dbe4f27-190e-472e-e569-03fe6abdf595"
      },
      "outputs": [
        {
          "output_type": "execute_result",
          "data": {
            "text/plain": [
              "2319"
            ]
          },
          "metadata": {},
          "execution_count": 79
        }
      ],
      "source": [
        "len(training_inputs)"
      ]
    },
    {
      "cell_type": "code",
      "execution_count": null,
      "metadata": {
        "id": "i6lveNA0lCdJ"
      },
      "outputs": [],
      "source": []
    },
    {
      "cell_type": "markdown",
      "metadata": {
        "id": "neyxIkCAGd7Q"
      },
      "source": [
        "# Define Model and Start Training"
      ]
    },
    {
      "cell_type": "code",
      "execution_count": null,
      "metadata": {
        "colab": {
          "base_uri": "https://localhost:8080/"
        },
        "id": "f_DXBgVqlEbY",
        "outputId": "c08e1823-98d4-42cf-d796-c9e7db44225e"
      },
      "outputs": [
        {
          "output_type": "stream",
          "name": "stderr",
          "text": [
            "Some weights of GPT2ForSequenceClassification were not initialized from the model checkpoint at gpt2 and are newly initialized: ['score.weight']\n",
            "You should probably TRAIN this model on a down-stream task to be able to use it for predictions and inference.\n"
          ]
        }
      ],
      "source": [
        "model_name = \"gpt2-large\"  # or other sizes like \"gpt2-medium\", \"gpt2-large\", etc.\n",
        "tokenizer = GPT2Tokenizer.from_pretrained(model_name)\n",
        "tokenizer.pad_token = tokenizer.eos_token\n",
        "model = GPT2ForSequenceClassification.from_pretrained(\"gpt2\", num_labels=2, pad_token_id=tokenizer.pad_token_id)\n",
        "model.cuda()\n",
        "\n",
        "\n",
        "\n",
        "tokenized_training_data = tokenizer(training_inputs, padding=True)\n",
        "tokenized_testing_data = tokenizer(testing_inputs, padding=True)"
      ]
    },
    {
      "cell_type": "code",
      "execution_count": null,
      "metadata": {
        "id": "1TxYUsKylJ7t"
      },
      "outputs": [],
      "source": []
    },
    {
      "cell_type": "code",
      "execution_count": null,
      "metadata": {
        "id": "Vyve-SwalYEO"
      },
      "outputs": [],
      "source": [
        "class Dataset(Dataset):\n",
        "    def __init__(self, tokenized_data, labels):\n",
        "        self.tokenized_data = tokenized_data\n",
        "        self.labels = labels\n",
        "\n",
        "    def __len__(self):\n",
        "        return len(self.tokenized_data[\"input_ids\"])\n",
        "\n",
        "    def __getitem__(self, idx):\n",
        "        item = {key: torch.tensor(val[idx]) for key, val in self.tokenized_data.items()}\n",
        "\n",
        "        item[\"labels\"] = torch.tensor(self.labels[idx])\n",
        "\n",
        "        return item"
      ]
    },
    {
      "cell_type": "code",
      "execution_count": null,
      "metadata": {
        "id": "Q8aWDbSilaM8"
      },
      "outputs": [],
      "source": [
        "# Define training dataset\n",
        "training_dataset = Dataset(tokenized_training_data, training_labels)\n",
        "testing_dataset = Dataset(tokenized_testing_data, testing_labels)"
      ]
    },
    {
      "cell_type": "code",
      "execution_count": null,
      "metadata": {
        "colab": {
          "base_uri": "https://localhost:8080/"
        },
        "id": "Btkj1fDIMDKL",
        "outputId": "5ec6fef3-221a-44c1-9780-3a57bf6e666e"
      },
      "outputs": [
        {
          "output_type": "execute_result",
          "data": {
            "text/plain": [
              "2319"
            ]
          },
          "metadata": {},
          "execution_count": 83
        }
      ],
      "source": [
        "len(training_dataset)"
      ]
    },
    {
      "cell_type": "code",
      "execution_count": null,
      "metadata": {
        "id": "3qiw_BoCLU2D"
      },
      "outputs": [],
      "source": []
    },
    {
      "cell_type": "code",
      "execution_count": null,
      "metadata": {
        "colab": {
          "base_uri": "https://localhost:8080/",
          "height": 356
        },
        "id": "FXOOUBa_leGZ",
        "outputId": "f377bc29-7b64-4355-b01e-bc2a09957707"
      },
      "outputs": [
        {
          "output_type": "display_data",
          "data": {
            "text/plain": [
              "<IPython.core.display.HTML object>"
            ],
            "text/html": [
              "\n",
              "    <div>\n",
              "      \n",
              "      <progress value='185' max='185' style='width:300px; height:20px; vertical-align: middle;'></progress>\n",
              "      [185/185 01:44, Epoch 5/5]\n",
              "    </div>\n",
              "    <table border=\"1\" class=\"dataframe\">\n",
              "  <thead>\n",
              " <tr style=\"text-align: left;\">\n",
              "      <th>Epoch</th>\n",
              "      <th>Training Loss</th>\n",
              "      <th>Validation Loss</th>\n",
              "      <th>Accuracy</th>\n",
              "      <th>Recall</th>\n",
              "      <th>F1</th>\n",
              "    </tr>\n",
              "  </thead>\n",
              "  <tbody>\n",
              "    <tr>\n",
              "      <td>1</td>\n",
              "      <td>No log</td>\n",
              "      <td>0.180059</td>\n",
              "      <td>0.963824</td>\n",
              "      <td>0.000000</td>\n",
              "      <td>0.000000</td>\n",
              "    </tr>\n",
              "    <tr>\n",
              "      <td>2</td>\n",
              "      <td>No log</td>\n",
              "      <td>0.148922</td>\n",
              "      <td>0.963824</td>\n",
              "      <td>0.000000</td>\n",
              "      <td>0.000000</td>\n",
              "    </tr>\n",
              "    <tr>\n",
              "      <td>3</td>\n",
              "      <td>No log</td>\n",
              "      <td>0.094639</td>\n",
              "      <td>0.966408</td>\n",
              "      <td>0.142857</td>\n",
              "      <td>0.235294</td>\n",
              "    </tr>\n",
              "    <tr>\n",
              "      <td>4</td>\n",
              "      <td>No log</td>\n",
              "      <td>0.115412</td>\n",
              "      <td>0.965116</td>\n",
              "      <td>0.035714</td>\n",
              "      <td>0.068966</td>\n",
              "    </tr>\n",
              "    <tr>\n",
              "      <td>5</td>\n",
              "      <td>No log</td>\n",
              "      <td>0.087156</td>\n",
              "      <td>0.967700</td>\n",
              "      <td>0.178571</td>\n",
              "      <td>0.285714</td>\n",
              "    </tr>\n",
              "  </tbody>\n",
              "</table><p>"
            ]
          },
          "metadata": {}
        },
        {
          "output_type": "stream",
          "name": "stderr",
          "text": [
            "/usr/local/lib/python3.10/dist-packages/sklearn/metrics/_classification.py:1344: UndefinedMetricWarning: Precision is ill-defined and being set to 0.0 due to no predicted samples. Use `zero_division` parameter to control this behavior.\n",
            "  _warn_prf(average, modifier, msg_start, len(result))\n",
            "/usr/local/lib/python3.10/dist-packages/sklearn/metrics/_classification.py:1344: UndefinedMetricWarning: Precision is ill-defined and being set to 0.0 due to no predicted samples. Use `zero_division` parameter to control this behavior.\n",
            "  _warn_prf(average, modifier, msg_start, len(result))\n"
          ]
        },
        {
          "output_type": "execute_result",
          "data": {
            "text/plain": [
              "TrainOutput(global_step=185, training_loss=0.111119337339659, metrics={'train_runtime': 105.4757, 'train_samples_per_second': 109.931, 'train_steps_per_second': 1.754, 'total_flos': 266285375078400.0, 'train_loss': 0.111119337339659, 'epoch': 5.0})"
            ]
          },
          "metadata": {},
          "execution_count": 84
        }
      ],
      "source": [
        "from transformers import TextDataset, DataCollatorForLanguageModeling, Trainer, TrainingArguments\n",
        "import numpy as np\n",
        "from sklearn.metrics import accuracy_score, recall_score, precision_score, f1_score\n",
        "\n",
        "# Define Trainer parameters\n",
        "def compute_metrics(p):\n",
        "\n",
        "    pred, labels = p\n",
        "    pred = np.argmax(pred, axis=1)\n",
        "\n",
        "    accuracy = accuracy_score(y_true=labels, y_pred=pred)\n",
        "    recall = recall_score(y_true=labels, y_pred=pred)\n",
        "    precision = precision_score(y_true=labels, y_pred=pred)\n",
        "    f1 = f1_score(y_true=labels, y_pred=pred)\n",
        "\n",
        "    return {\"accuracy\": accuracy, \"recall\": recall, \"f1\": f1}\n",
        "\n",
        "# Define training arguments\n",
        "training_args = TrainingArguments(\n",
        "    output_dir=\"output\",\n",
        "    evaluation_strategy=\"epoch\",\n",
        "    learning_rate=2e-5,\n",
        "    per_device_train_batch_size=64,\n",
        "    per_device_eval_batch_size=64,\n",
        "    num_train_epochs=5,\n",
        "    seed=0\n",
        ")\n",
        "\n",
        "\n",
        "# Initialize the Trainer\n",
        "trainer = Trainer(\n",
        "    model=model,\n",
        "    args=training_args,\n",
        "    train_dataset=training_dataset,\n",
        "    eval_dataset=testing_dataset,\n",
        "    compute_metrics=compute_metrics,\n",
        ")\n",
        "\n",
        "# Start fine-tuning\n",
        "trainer.train()"
      ]
    },
    {
      "cell_type": "code",
      "execution_count": null,
      "metadata": {
        "id": "KmXiuezxTODe"
      },
      "outputs": [],
      "source": []
    },
    {
      "cell_type": "code",
      "execution_count": null,
      "metadata": {
        "id": "9asTRFHJVtiN"
      },
      "outputs": [],
      "source": [
        "# count = 0\n",
        "# total = 0\n",
        "# batch_size = 64\n",
        "\n",
        "# model = GPT2ForSequenceClassification.from_pretrained(\"gpt2\", num_labels=2, pad_token_id=tokenizer.pad_token_id)\n",
        "\n",
        "\n",
        "# model = model.cuda()\n",
        "# for i in range(0, len(testing_inputs), batch_size):\n",
        "#     sentences = testing_inputs[i:i+batch_size]\n",
        "#     labels = torch.tensor(testing_labels[i:i+batch_size])\n",
        "#     t = tokenizer(sentences, return_tensors=\"pt\", padding = True)\n",
        "#     t = {key: val.cuda() for key, val in t.items()}\n",
        "\n",
        "#     pred = model.forward(**t).logits.argmax(-1).detach().cpu()\n",
        "\n",
        "\n",
        "#     count += (pred == labels).sum()\n",
        "\n",
        "\n",
        "# print(count)\n",
        "# print(len(testing_inputs))"
      ]
    },
    {
      "cell_type": "code",
      "execution_count": null,
      "metadata": {
        "id": "sqhqSUPGWRlD",
        "colab": {
          "base_uri": "https://localhost:8080/"
        },
        "outputId": "39932367-a45d-4d53-e21c-0890dc7fac07"
      },
      "outputs": [
        {
          "output_type": "stream",
          "name": "stdout",
          "text": [
            "5 744 2 23\n",
            "Accuracy: 0.9677002583979328\n",
            "Precision: 0.7142857142857143\n",
            "Recall: 0.17857142857142858\n",
            "F1 Score: 0.2857142857142857\n"
          ]
        }
      ],
      "source": [
        "count = 0\n",
        "total = 0\n",
        "batch_size = 64\n",
        "\n",
        "TP, FP, TN, FN = 0, 0, 0, 0\n",
        "\n",
        "# model = GPT2ForSequenceClassification.from_pretrained(\"gpt2\", num_labels=2, pad_token_id=tokenizer.pad_token_id)\n",
        "model = model.cuda()\n",
        "\n",
        "for i in range(0, len(testing_inputs), batch_size):\n",
        "    sentences = testing_inputs[i:i + batch_size]\n",
        "    labels = torch.tensor(testing_labels[i:i + batch_size])\n",
        "    t = tokenizer(sentences, return_tensors=\"pt\", padding=True)\n",
        "    t = {key: val.cuda() for key, val in t.items()}\n",
        "\n",
        "    pred = model.forward(**t).logits.argmax(-1).detach().cpu()\n",
        "\n",
        "    TP += ((pred == 1) & (labels == 1)).sum().item()\n",
        "    TN += ((pred == 0) & (labels == 0)).sum().item()\n",
        "    FP += ((pred == 1) & (labels == 0)).sum().item()\n",
        "    FN += ((pred == 0) & (labels == 1)).sum().item()\n",
        "\n",
        "# Calculating the metrics\n",
        "accuracy = (TP + TN) / (TP + TN + FP + FN)\n",
        "precision = TP / (TP + FP) if (TP + FP) > 0 else 0\n",
        "recall = TP / (TP + FN) if (TP + FN) > 0 else 0\n",
        "f1_score = 2 * (precision * recall) / (precision + recall) if (precision + recall) > 0 else 0\n",
        "\n",
        "print(TP, TN, FP, FN)\n",
        "\n",
        "print(f\"Accuracy: {accuracy}\")\n",
        "print(f\"Precision: {precision}\")\n",
        "print(f\"Recall: {recall}\")\n",
        "print(f\"F1 Score: {f1_score}\")"
      ]
    },
    {
      "cell_type": "code",
      "execution_count": null,
      "metadata": {
        "id": "e-Pbf2O-WThV"
      },
      "outputs": [],
      "source": []
    }
  ],
  "metadata": {
    "colab": {
      "provenance": [],
      "gpuType": "T4",
      "include_colab_link": true
    },
    "kernelspec": {
      "display_name": "Python 3",
      "name": "python3"
    },
    "language_info": {
      "name": "python"
    },
    "accelerator": "GPU"
  },
  "nbformat": 4,
  "nbformat_minor": 0
}