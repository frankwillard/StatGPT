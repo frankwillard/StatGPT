{
  "cells": [
    {
      "cell_type": "markdown",
      "metadata": {
        "id": "view-in-github",
        "colab_type": "text"
      },
      "source": [
        "<a href=\"https://colab.research.google.com/github/frankwillard/StatGPT/blob/main/GPT_2_Champion_Weighted_Loss.ipynb\" target=\"_parent\"><img src=\"https://colab.research.google.com/assets/colab-badge.svg\" alt=\"Open In Colab\"/></a>"
      ]
    },
    {
      "cell_type": "code",
      "execution_count": null,
      "metadata": {
        "colab": {
          "base_uri": "https://localhost:8080/"
        },
        "id": "cA641eyahgtX",
        "outputId": "d0cdacbc-3f85-43cc-821f-5b5a5e9c871b"
      },
      "outputs": [
        {
          "output_type": "stream",
          "name": "stdout",
          "text": [
            "Requirement already satisfied: transformers[torch] in /usr/local/lib/python3.10/dist-packages (4.35.2)\n",
            "Requirement already satisfied: filelock in /usr/local/lib/python3.10/dist-packages (from transformers[torch]) (3.13.1)\n",
            "Requirement already satisfied: huggingface-hub<1.0,>=0.16.4 in /usr/local/lib/python3.10/dist-packages (from transformers[torch]) (0.19.4)\n",
            "Requirement already satisfied: numpy>=1.17 in /usr/local/lib/python3.10/dist-packages (from transformers[torch]) (1.23.5)\n",
            "Requirement already satisfied: packaging>=20.0 in /usr/local/lib/python3.10/dist-packages (from transformers[torch]) (23.2)\n",
            "Requirement already satisfied: pyyaml>=5.1 in /usr/local/lib/python3.10/dist-packages (from transformers[torch]) (6.0.1)\n",
            "Requirement already satisfied: regex!=2019.12.17 in /usr/local/lib/python3.10/dist-packages (from transformers[torch]) (2023.6.3)\n",
            "Requirement already satisfied: requests in /usr/local/lib/python3.10/dist-packages (from transformers[torch]) (2.31.0)\n",
            "Requirement already satisfied: tokenizers<0.19,>=0.14 in /usr/local/lib/python3.10/dist-packages (from transformers[torch]) (0.15.0)\n",
            "Requirement already satisfied: safetensors>=0.3.1 in /usr/local/lib/python3.10/dist-packages (from transformers[torch]) (0.4.0)\n",
            "Requirement already satisfied: tqdm>=4.27 in /usr/local/lib/python3.10/dist-packages (from transformers[torch]) (4.66.1)\n",
            "Requirement already satisfied: torch!=1.12.0,>=1.10 in /usr/local/lib/python3.10/dist-packages (from transformers[torch]) (2.1.0+cu118)\n",
            "Collecting accelerate>=0.20.3 (from transformers[torch])\n",
            "  Downloading accelerate-0.24.1-py3-none-any.whl (261 kB)\n",
            "\u001b[2K     \u001b[90m━━━━━━━━━━━━━━━━━━━━━━━━━━━━━━━━━━━━━━━━\u001b[0m \u001b[32m261.4/261.4 kB\u001b[0m \u001b[31m5.1 MB/s\u001b[0m eta \u001b[36m0:00:00\u001b[0m\n",
            "\u001b[?25hRequirement already satisfied: psutil in /usr/local/lib/python3.10/dist-packages (from accelerate>=0.20.3->transformers[torch]) (5.9.5)\n",
            "Requirement already satisfied: fsspec>=2023.5.0 in /usr/local/lib/python3.10/dist-packages (from huggingface-hub<1.0,>=0.16.4->transformers[torch]) (2023.6.0)\n",
            "Requirement already satisfied: typing-extensions>=3.7.4.3 in /usr/local/lib/python3.10/dist-packages (from huggingface-hub<1.0,>=0.16.4->transformers[torch]) (4.5.0)\n",
            "Requirement already satisfied: sympy in /usr/local/lib/python3.10/dist-packages (from torch!=1.12.0,>=1.10->transformers[torch]) (1.12)\n",
            "Requirement already satisfied: networkx in /usr/local/lib/python3.10/dist-packages (from torch!=1.12.0,>=1.10->transformers[torch]) (3.2.1)\n",
            "Requirement already satisfied: jinja2 in /usr/local/lib/python3.10/dist-packages (from torch!=1.12.0,>=1.10->transformers[torch]) (3.1.2)\n",
            "Requirement already satisfied: triton==2.1.0 in /usr/local/lib/python3.10/dist-packages (from torch!=1.12.0,>=1.10->transformers[torch]) (2.1.0)\n",
            "Requirement already satisfied: charset-normalizer<4,>=2 in /usr/local/lib/python3.10/dist-packages (from requests->transformers[torch]) (3.3.2)\n",
            "Requirement already satisfied: idna<4,>=2.5 in /usr/local/lib/python3.10/dist-packages (from requests->transformers[torch]) (3.4)\n",
            "Requirement already satisfied: urllib3<3,>=1.21.1 in /usr/local/lib/python3.10/dist-packages (from requests->transformers[torch]) (2.0.7)\n",
            "Requirement already satisfied: certifi>=2017.4.17 in /usr/local/lib/python3.10/dist-packages (from requests->transformers[torch]) (2023.7.22)\n",
            "Requirement already satisfied: MarkupSafe>=2.0 in /usr/local/lib/python3.10/dist-packages (from jinja2->torch!=1.12.0,>=1.10->transformers[torch]) (2.1.3)\n",
            "Requirement already satisfied: mpmath>=0.19 in /usr/local/lib/python3.10/dist-packages (from sympy->torch!=1.12.0,>=1.10->transformers[torch]) (1.3.0)\n",
            "Installing collected packages: accelerate\n",
            "Successfully installed accelerate-0.24.1\n"
          ]
        }
      ],
      "source": [
        "!pip install transformers[torch]"
      ]
    },
    {
      "cell_type": "markdown",
      "metadata": {
        "id": "0dQ091MTjquR"
      },
      "source": [
        "## Load In Libraries, Data"
      ]
    },
    {
      "cell_type": "code",
      "execution_count": null,
      "metadata": {
        "id": "pAMWZwpgjYnN"
      },
      "outputs": [],
      "source": [
        "import pandas as pd\n",
        "\n",
        "import torch\n",
        "from torch.utils.data import Dataset\n",
        "\n",
        "from transformers import GPT2Tokenizer, GPT2LMHeadModel, GPT2ForSequenceClassification, TrainingArguments, Trainer"
      ]
    },
    {
      "cell_type": "code",
      "execution_count": null,
      "metadata": {
        "id": "ZSUoovGAiAp4"
      },
      "outputs": [],
      "source": [
        "team_data = pd.read_csv('nba_team_advanced_data (1).csv')"
      ]
    },
    {
      "cell_type": "code",
      "execution_count": null,
      "metadata": {
        "colab": {
          "base_uri": "https://localhost:8080/",
          "height": 359
        },
        "id": "Y7CNUj9StpGP",
        "outputId": "3a91beef-516f-4d0c-ffb0-0f9075d4a7e2"
      },
      "outputs": [
        {
          "output_type": "execute_result",
          "data": {
            "text/plain": [
              "     Year                 Team   Age     W     L    PW    PL   MOV   SOS  \\\n",
              "0  1990.0        Atlanta Hawks  28.6  41.0  41.0  44.0  38.0  1.02 -0.39   \n",
              "1  1990.0       Boston Celtics  30.2  52.0  30.0  51.0  31.0  3.99 -0.76   \n",
              "2  1990.0    Charlotte Hornets  25.6  19.0  63.0  21.0  61.0 -7.82  0.81   \n",
              "3  1990.0        Chicago Bulls  26.1  55.0  27.0  50.0  32.0  3.26 -0.51   \n",
              "4  1990.0  Cleveland Cavaliers  26.1  42.0  40.0  40.0  42.0 -0.30 -0.31   \n",
              "\n",
              "    SRS  ...  DRB%  DFT/FGA                  Arena   Attend.  Playoffs  \\\n",
              "0  0.64  ...  65.5    0.254          Omni Coliseum  573711.0         N   \n",
              "1  3.23  ...  72.1    0.223          Boston Garden  611537.0         Y   \n",
              "2 -7.00  ...  67.5    0.269     Charlotte Coliseum  979941.0         N   \n",
              "3  2.74  ...  68.1    0.262        Chicago Stadium  752564.0         Y   \n",
              "4 -0.62  ...  67.7    0.202  Coliseum at Richfield  695710.0         Y   \n",
              "\n",
              "       W/L%  Losing_season  Champion  won_last  won_last_3  \n",
              "0  0.500000              N         N         N           N  \n",
              "1  0.634146              N         N         N           N  \n",
              "2  0.231707              Y         N         N           N  \n",
              "3  0.670732              N         N         N           N  \n",
              "4  0.512195              N         N         N           N  \n",
              "\n",
              "[5 rows x 33 columns]"
            ],
            "text/html": [
              "\n",
              "  <div id=\"df-848ac203-eaf9-4bad-a1c6-78e0c93db81b\" class=\"colab-df-container\">\n",
              "    <div>\n",
              "<style scoped>\n",
              "    .dataframe tbody tr th:only-of-type {\n",
              "        vertical-align: middle;\n",
              "    }\n",
              "\n",
              "    .dataframe tbody tr th {\n",
              "        vertical-align: top;\n",
              "    }\n",
              "\n",
              "    .dataframe thead th {\n",
              "        text-align: right;\n",
              "    }\n",
              "</style>\n",
              "<table border=\"1\" class=\"dataframe\">\n",
              "  <thead>\n",
              "    <tr style=\"text-align: right;\">\n",
              "      <th></th>\n",
              "      <th>Year</th>\n",
              "      <th>Team</th>\n",
              "      <th>Age</th>\n",
              "      <th>W</th>\n",
              "      <th>L</th>\n",
              "      <th>PW</th>\n",
              "      <th>PL</th>\n",
              "      <th>MOV</th>\n",
              "      <th>SOS</th>\n",
              "      <th>SRS</th>\n",
              "      <th>...</th>\n",
              "      <th>DRB%</th>\n",
              "      <th>DFT/FGA</th>\n",
              "      <th>Arena</th>\n",
              "      <th>Attend.</th>\n",
              "      <th>Playoffs</th>\n",
              "      <th>W/L%</th>\n",
              "      <th>Losing_season</th>\n",
              "      <th>Champion</th>\n",
              "      <th>won_last</th>\n",
              "      <th>won_last_3</th>\n",
              "    </tr>\n",
              "  </thead>\n",
              "  <tbody>\n",
              "    <tr>\n",
              "      <th>0</th>\n",
              "      <td>1990.0</td>\n",
              "      <td>Atlanta Hawks</td>\n",
              "      <td>28.6</td>\n",
              "      <td>41.0</td>\n",
              "      <td>41.0</td>\n",
              "      <td>44.0</td>\n",
              "      <td>38.0</td>\n",
              "      <td>1.02</td>\n",
              "      <td>-0.39</td>\n",
              "      <td>0.64</td>\n",
              "      <td>...</td>\n",
              "      <td>65.5</td>\n",
              "      <td>0.254</td>\n",
              "      <td>Omni Coliseum</td>\n",
              "      <td>573711.0</td>\n",
              "      <td>N</td>\n",
              "      <td>0.500000</td>\n",
              "      <td>N</td>\n",
              "      <td>N</td>\n",
              "      <td>N</td>\n",
              "      <td>N</td>\n",
              "    </tr>\n",
              "    <tr>\n",
              "      <th>1</th>\n",
              "      <td>1990.0</td>\n",
              "      <td>Boston Celtics</td>\n",
              "      <td>30.2</td>\n",
              "      <td>52.0</td>\n",
              "      <td>30.0</td>\n",
              "      <td>51.0</td>\n",
              "      <td>31.0</td>\n",
              "      <td>3.99</td>\n",
              "      <td>-0.76</td>\n",
              "      <td>3.23</td>\n",
              "      <td>...</td>\n",
              "      <td>72.1</td>\n",
              "      <td>0.223</td>\n",
              "      <td>Boston Garden</td>\n",
              "      <td>611537.0</td>\n",
              "      <td>Y</td>\n",
              "      <td>0.634146</td>\n",
              "      <td>N</td>\n",
              "      <td>N</td>\n",
              "      <td>N</td>\n",
              "      <td>N</td>\n",
              "    </tr>\n",
              "    <tr>\n",
              "      <th>2</th>\n",
              "      <td>1990.0</td>\n",
              "      <td>Charlotte Hornets</td>\n",
              "      <td>25.6</td>\n",
              "      <td>19.0</td>\n",
              "      <td>63.0</td>\n",
              "      <td>21.0</td>\n",
              "      <td>61.0</td>\n",
              "      <td>-7.82</td>\n",
              "      <td>0.81</td>\n",
              "      <td>-7.00</td>\n",
              "      <td>...</td>\n",
              "      <td>67.5</td>\n",
              "      <td>0.269</td>\n",
              "      <td>Charlotte Coliseum</td>\n",
              "      <td>979941.0</td>\n",
              "      <td>N</td>\n",
              "      <td>0.231707</td>\n",
              "      <td>Y</td>\n",
              "      <td>N</td>\n",
              "      <td>N</td>\n",
              "      <td>N</td>\n",
              "    </tr>\n",
              "    <tr>\n",
              "      <th>3</th>\n",
              "      <td>1990.0</td>\n",
              "      <td>Chicago Bulls</td>\n",
              "      <td>26.1</td>\n",
              "      <td>55.0</td>\n",
              "      <td>27.0</td>\n",
              "      <td>50.0</td>\n",
              "      <td>32.0</td>\n",
              "      <td>3.26</td>\n",
              "      <td>-0.51</td>\n",
              "      <td>2.74</td>\n",
              "      <td>...</td>\n",
              "      <td>68.1</td>\n",
              "      <td>0.262</td>\n",
              "      <td>Chicago Stadium</td>\n",
              "      <td>752564.0</td>\n",
              "      <td>Y</td>\n",
              "      <td>0.670732</td>\n",
              "      <td>N</td>\n",
              "      <td>N</td>\n",
              "      <td>N</td>\n",
              "      <td>N</td>\n",
              "    </tr>\n",
              "    <tr>\n",
              "      <th>4</th>\n",
              "      <td>1990.0</td>\n",
              "      <td>Cleveland Cavaliers</td>\n",
              "      <td>26.1</td>\n",
              "      <td>42.0</td>\n",
              "      <td>40.0</td>\n",
              "      <td>40.0</td>\n",
              "      <td>42.0</td>\n",
              "      <td>-0.30</td>\n",
              "      <td>-0.31</td>\n",
              "      <td>-0.62</td>\n",
              "      <td>...</td>\n",
              "      <td>67.7</td>\n",
              "      <td>0.202</td>\n",
              "      <td>Coliseum at Richfield</td>\n",
              "      <td>695710.0</td>\n",
              "      <td>Y</td>\n",
              "      <td>0.512195</td>\n",
              "      <td>N</td>\n",
              "      <td>N</td>\n",
              "      <td>N</td>\n",
              "      <td>N</td>\n",
              "    </tr>\n",
              "  </tbody>\n",
              "</table>\n",
              "<p>5 rows × 33 columns</p>\n",
              "</div>\n",
              "    <div class=\"colab-df-buttons\">\n",
              "\n",
              "  <div class=\"colab-df-container\">\n",
              "    <button class=\"colab-df-convert\" onclick=\"convertToInteractive('df-848ac203-eaf9-4bad-a1c6-78e0c93db81b')\"\n",
              "            title=\"Convert this dataframe to an interactive table.\"\n",
              "            style=\"display:none;\">\n",
              "\n",
              "  <svg xmlns=\"http://www.w3.org/2000/svg\" height=\"24px\" viewBox=\"0 -960 960 960\">\n",
              "    <path d=\"M120-120v-720h720v720H120Zm60-500h600v-160H180v160Zm220 220h160v-160H400v160Zm0 220h160v-160H400v160ZM180-400h160v-160H180v160Zm440 0h160v-160H620v160ZM180-180h160v-160H180v160Zm440 0h160v-160H620v160Z\"/>\n",
              "  </svg>\n",
              "    </button>\n",
              "\n",
              "  <style>\n",
              "    .colab-df-container {\n",
              "      display:flex;\n",
              "      gap: 12px;\n",
              "    }\n",
              "\n",
              "    .colab-df-convert {\n",
              "      background-color: #E8F0FE;\n",
              "      border: none;\n",
              "      border-radius: 50%;\n",
              "      cursor: pointer;\n",
              "      display: none;\n",
              "      fill: #1967D2;\n",
              "      height: 32px;\n",
              "      padding: 0 0 0 0;\n",
              "      width: 32px;\n",
              "    }\n",
              "\n",
              "    .colab-df-convert:hover {\n",
              "      background-color: #E2EBFA;\n",
              "      box-shadow: 0px 1px 2px rgba(60, 64, 67, 0.3), 0px 1px 3px 1px rgba(60, 64, 67, 0.15);\n",
              "      fill: #174EA6;\n",
              "    }\n",
              "\n",
              "    .colab-df-buttons div {\n",
              "      margin-bottom: 4px;\n",
              "    }\n",
              "\n",
              "    [theme=dark] .colab-df-convert {\n",
              "      background-color: #3B4455;\n",
              "      fill: #D2E3FC;\n",
              "    }\n",
              "\n",
              "    [theme=dark] .colab-df-convert:hover {\n",
              "      background-color: #434B5C;\n",
              "      box-shadow: 0px 1px 3px 1px rgba(0, 0, 0, 0.15);\n",
              "      filter: drop-shadow(0px 1px 2px rgba(0, 0, 0, 0.3));\n",
              "      fill: #FFFFFF;\n",
              "    }\n",
              "  </style>\n",
              "\n",
              "    <script>\n",
              "      const buttonEl =\n",
              "        document.querySelector('#df-848ac203-eaf9-4bad-a1c6-78e0c93db81b button.colab-df-convert');\n",
              "      buttonEl.style.display =\n",
              "        google.colab.kernel.accessAllowed ? 'block' : 'none';\n",
              "\n",
              "      async function convertToInteractive(key) {\n",
              "        const element = document.querySelector('#df-848ac203-eaf9-4bad-a1c6-78e0c93db81b');\n",
              "        const dataTable =\n",
              "          await google.colab.kernel.invokeFunction('convertToInteractive',\n",
              "                                                    [key], {});\n",
              "        if (!dataTable) return;\n",
              "\n",
              "        const docLinkHtml = 'Like what you see? Visit the ' +\n",
              "          '<a target=\"_blank\" href=https://colab.research.google.com/notebooks/data_table.ipynb>data table notebook</a>'\n",
              "          + ' to learn more about interactive tables.';\n",
              "        element.innerHTML = '';\n",
              "        dataTable['output_type'] = 'display_data';\n",
              "        await google.colab.output.renderOutput(dataTable, element);\n",
              "        const docLink = document.createElement('div');\n",
              "        docLink.innerHTML = docLinkHtml;\n",
              "        element.appendChild(docLink);\n",
              "      }\n",
              "    </script>\n",
              "  </div>\n",
              "\n",
              "\n",
              "<div id=\"df-ee25f750-7e80-4c79-922a-f2b2b30fc6d9\">\n",
              "  <button class=\"colab-df-quickchart\" onclick=\"quickchart('df-ee25f750-7e80-4c79-922a-f2b2b30fc6d9')\"\n",
              "            title=\"Suggest charts\"\n",
              "            style=\"display:none;\">\n",
              "\n",
              "<svg xmlns=\"http://www.w3.org/2000/svg\" height=\"24px\"viewBox=\"0 0 24 24\"\n",
              "     width=\"24px\">\n",
              "    <g>\n",
              "        <path d=\"M19 3H5c-1.1 0-2 .9-2 2v14c0 1.1.9 2 2 2h14c1.1 0 2-.9 2-2V5c0-1.1-.9-2-2-2zM9 17H7v-7h2v7zm4 0h-2V7h2v10zm4 0h-2v-4h2v4z\"/>\n",
              "    </g>\n",
              "</svg>\n",
              "  </button>\n",
              "\n",
              "<style>\n",
              "  .colab-df-quickchart {\n",
              "      --bg-color: #E8F0FE;\n",
              "      --fill-color: #1967D2;\n",
              "      --hover-bg-color: #E2EBFA;\n",
              "      --hover-fill-color: #174EA6;\n",
              "      --disabled-fill-color: #AAA;\n",
              "      --disabled-bg-color: #DDD;\n",
              "  }\n",
              "\n",
              "  [theme=dark] .colab-df-quickchart {\n",
              "      --bg-color: #3B4455;\n",
              "      --fill-color: #D2E3FC;\n",
              "      --hover-bg-color: #434B5C;\n",
              "      --hover-fill-color: #FFFFFF;\n",
              "      --disabled-bg-color: #3B4455;\n",
              "      --disabled-fill-color: #666;\n",
              "  }\n",
              "\n",
              "  .colab-df-quickchart {\n",
              "    background-color: var(--bg-color);\n",
              "    border: none;\n",
              "    border-radius: 50%;\n",
              "    cursor: pointer;\n",
              "    display: none;\n",
              "    fill: var(--fill-color);\n",
              "    height: 32px;\n",
              "    padding: 0;\n",
              "    width: 32px;\n",
              "  }\n",
              "\n",
              "  .colab-df-quickchart:hover {\n",
              "    background-color: var(--hover-bg-color);\n",
              "    box-shadow: 0 1px 2px rgba(60, 64, 67, 0.3), 0 1px 3px 1px rgba(60, 64, 67, 0.15);\n",
              "    fill: var(--button-hover-fill-color);\n",
              "  }\n",
              "\n",
              "  .colab-df-quickchart-complete:disabled,\n",
              "  .colab-df-quickchart-complete:disabled:hover {\n",
              "    background-color: var(--disabled-bg-color);\n",
              "    fill: var(--disabled-fill-color);\n",
              "    box-shadow: none;\n",
              "  }\n",
              "\n",
              "  .colab-df-spinner {\n",
              "    border: 2px solid var(--fill-color);\n",
              "    border-color: transparent;\n",
              "    border-bottom-color: var(--fill-color);\n",
              "    animation:\n",
              "      spin 1s steps(1) infinite;\n",
              "  }\n",
              "\n",
              "  @keyframes spin {\n",
              "    0% {\n",
              "      border-color: transparent;\n",
              "      border-bottom-color: var(--fill-color);\n",
              "      border-left-color: var(--fill-color);\n",
              "    }\n",
              "    20% {\n",
              "      border-color: transparent;\n",
              "      border-left-color: var(--fill-color);\n",
              "      border-top-color: var(--fill-color);\n",
              "    }\n",
              "    30% {\n",
              "      border-color: transparent;\n",
              "      border-left-color: var(--fill-color);\n",
              "      border-top-color: var(--fill-color);\n",
              "      border-right-color: var(--fill-color);\n",
              "    }\n",
              "    40% {\n",
              "      border-color: transparent;\n",
              "      border-right-color: var(--fill-color);\n",
              "      border-top-color: var(--fill-color);\n",
              "    }\n",
              "    60% {\n",
              "      border-color: transparent;\n",
              "      border-right-color: var(--fill-color);\n",
              "    }\n",
              "    80% {\n",
              "      border-color: transparent;\n",
              "      border-right-color: var(--fill-color);\n",
              "      border-bottom-color: var(--fill-color);\n",
              "    }\n",
              "    90% {\n",
              "      border-color: transparent;\n",
              "      border-bottom-color: var(--fill-color);\n",
              "    }\n",
              "  }\n",
              "</style>\n",
              "\n",
              "  <script>\n",
              "    async function quickchart(key) {\n",
              "      const quickchartButtonEl =\n",
              "        document.querySelector('#' + key + ' button');\n",
              "      quickchartButtonEl.disabled = true;  // To prevent multiple clicks.\n",
              "      quickchartButtonEl.classList.add('colab-df-spinner');\n",
              "      try {\n",
              "        const charts = await google.colab.kernel.invokeFunction(\n",
              "            'suggestCharts', [key], {});\n",
              "      } catch (error) {\n",
              "        console.error('Error during call to suggestCharts:', error);\n",
              "      }\n",
              "      quickchartButtonEl.classList.remove('colab-df-spinner');\n",
              "      quickchartButtonEl.classList.add('colab-df-quickchart-complete');\n",
              "    }\n",
              "    (() => {\n",
              "      let quickchartButtonEl =\n",
              "        document.querySelector('#df-ee25f750-7e80-4c79-922a-f2b2b30fc6d9 button');\n",
              "      quickchartButtonEl.style.display =\n",
              "        google.colab.kernel.accessAllowed ? 'block' : 'none';\n",
              "    })();\n",
              "  </script>\n",
              "</div>\n",
              "    </div>\n",
              "  </div>\n"
            ]
          },
          "metadata": {},
          "execution_count": 41
        }
      ],
      "source": [
        "team_data.head()"
      ]
    },
    {
      "cell_type": "code",
      "source": [
        "team_data.columns"
      ],
      "metadata": {
        "colab": {
          "base_uri": "https://localhost:8080/"
        },
        "id": "IsGyQUa_uGDs",
        "outputId": "21e768c6-52b4-487b-d867-38dfe81bb674"
      },
      "execution_count": null,
      "outputs": [
        {
          "output_type": "execute_result",
          "data": {
            "text/plain": [
              "Index(['Year', 'Team', 'Age', 'W', 'L', 'PW', 'PL', 'MOV', 'SOS', 'SRS',\n",
              "       'ORtg', 'DRtg', 'NRtg', 'Pace', 'FTr', '3PAr', 'TS%', 'OeFG%', 'OTOV%',\n",
              "       'ORB%', 'OFT/FGA', 'DeFG%', 'DTOV%', 'DRB%', 'DFT/FGA', 'Arena',\n",
              "       'Attend.', 'Playoffs', 'W/L%', 'Losing_season', 'Champion', 'won_last',\n",
              "       'won_last_3'],\n",
              "      dtype='object')"
            ]
          },
          "metadata": {},
          "execution_count": 42
        }
      ]
    },
    {
      "cell_type": "code",
      "execution_count": null,
      "metadata": {
        "id": "ZQBim7QFiOHN"
      },
      "outputs": [],
      "source": [
        "# Miami Heat in 2013 has average Age: 30.3, MOV: 7.87, NRtg: 8.6, TS: 0.588, Win Percentage: 0.805, and won last year's championship.\n",
        "df = team_data[[\"Year\", \"Team\", \"Age\" , \"MOV\" , \"NRtg\" ,\"TS%\", \"W/L%\", 'won_last']]\n",
        "# df.rename(columns={'PTS_per_game': 'Points', 'TRB_per_game': 'Rebounds', 'AST_per_game': 'Assists', 'STL_per_game': 'Steals', 'BLK_per_game': 'Blocks', \"VORP_advanced\" : \"vorp\"}, inplace=True)\n",
        "\n",
        "\n",
        "# Convert all columns to integer type\n",
        "df = df.astype(float, errors='ignore')\n",
        "\n",
        "# cond1 = (df[\"Points\"] < 99) & (df[\"Rebounds\"] < 99) & (df[\"Assists\"] < 99) & (df[\"Steals\"] < 99) & (df[\"Blocks\"] < 99)\n",
        "# cond2 = (df[\"Points\"] > 0) & (df[\"Rebounds\"] > 0) & (df[\"Assists\"] > 0) & (df[\"Steals\"] > 0) & (df[\"Blocks\"] > 0)\n",
        "\n",
        "# df = df[cond1]\n",
        "# df = df[cond2]\n",
        "\n",
        "df.to_csv('teams_stats.csv', index=False)\n",
        "\n",
        "#player_data = player_data[cond]\n"
      ]
    },
    {
      "cell_type": "code",
      "execution_count": null,
      "metadata": {
        "id": "a8kaToPeVQwf"
      },
      "outputs": [],
      "source": [
        "# all_nba = player_data[[\"Player\", \"All_NBA\"]]\n",
        "# all_nba.rename(columns={\"All_NBA\": 'allnba'}, inplace=True)\n",
        "\n",
        "# all_nba =  all_nba[all_nba[\"Player\"].isin(df[\"Player\"])]\n",
        "# all_nba.to_csv('all_nba.csv', index=False)"
      ]
    },
    {
      "cell_type": "code",
      "execution_count": null,
      "metadata": {
        "id": "eXJC7bfwWKvS"
      },
      "outputs": [],
      "source": [
        "# vorp = player_data[[\"Player\", \"VORP_advanced\"]]\n",
        "# vorp.rename(columns={\"VORP_advanced\": 'vorp'}, inplace=True)\n",
        "# vorp =  vorp[vorp[\"Player\"].isin(df[\"Player\"])]\n",
        "# vorp.head()\n",
        "# vorp.to_csv('vorp.csv', index=False)\n",
        "\n",
        "\n",
        "# vorp['vorp'] = vorp['vorp'].apply(lambda x: 0 if x <= 0 else 1)\n",
        "# vorp.to_csv('vorp_binary.csv', index=False)"
      ]
    },
    {
      "cell_type": "code",
      "source": [
        "champion = team_data[[\"Year\", \"Team\", 'Champion']]"
      ],
      "metadata": {
        "id": "y-l7tsdraEIJ"
      },
      "execution_count": null,
      "outputs": []
    },
    {
      "cell_type": "code",
      "source": [
        "len(champion)"
      ],
      "metadata": {
        "colab": {
          "base_uri": "https://localhost:8080/"
        },
        "id": "qWF-6IPBumrG",
        "outputId": "0907ff7e-0659-4874-d3f2-0d242b6ba7f3"
      },
      "execution_count": null,
      "outputs": [
        {
          "output_type": "execute_result",
          "data": {
            "text/plain": [
              "963"
            ]
          },
          "metadata": {},
          "execution_count": 47
        }
      ]
    },
    {
      "cell_type": "code",
      "source": [
        "champion['Champion'] = champion['Champion'].apply(lambda x: 0 if x == 'N' else 1)"
      ],
      "metadata": {
        "colab": {
          "base_uri": "https://localhost:8080/"
        },
        "id": "dk7X6udswDoO",
        "outputId": "9b2fbae4-fbd0-4ebe-da44-12c0be9e3822"
      },
      "execution_count": null,
      "outputs": [
        {
          "output_type": "stream",
          "name": "stderr",
          "text": [
            "<ipython-input-48-fcf44467c76d>:1: SettingWithCopyWarning: \n",
            "A value is trying to be set on a copy of a slice from a DataFrame.\n",
            "Try using .loc[row_indexer,col_indexer] = value instead\n",
            "\n",
            "See the caveats in the documentation: https://pandas.pydata.org/pandas-docs/stable/user_guide/indexing.html#returning-a-view-versus-a-copy\n",
            "  champion['Champion'] = champion['Champion'].apply(lambda x: 0 if x == 'N' else 1)\n"
          ]
        }
      ]
    },
    {
      "cell_type": "code",
      "source": [
        "champion['Champion'].value_counts()"
      ],
      "metadata": {
        "colab": {
          "base_uri": "https://localhost:8080/"
        },
        "id": "YZcCrZBOwPmg",
        "outputId": "433ab3e7-38d3-4c5b-b1ca-94cdd5459de5"
      },
      "execution_count": null,
      "outputs": [
        {
          "output_type": "execute_result",
          "data": {
            "text/plain": [
              "0    930\n",
              "1     33\n",
              "Name: Champion, dtype: int64"
            ]
          },
          "metadata": {},
          "execution_count": 49
        }
      ]
    },
    {
      "cell_type": "code",
      "source": [
        "champion.to_csv('champion_binary.csv', index=False)"
      ],
      "metadata": {
        "id": "wB_y3TDVahJe"
      },
      "execution_count": null,
      "outputs": []
    },
    {
      "cell_type": "markdown",
      "metadata": {
        "id": "HHv-zQ_-jwJc"
      },
      "source": [
        "## Define Train/Test Split"
      ]
    },
    {
      "cell_type": "code",
      "execution_count": null,
      "metadata": {
        "id": "s4veT89Hj1jz"
      },
      "outputs": [],
      "source": [
        "team_stats = pd.read_csv('teams_stats.csv')\n",
        "# vorp = pd.read_csv('vorp_binary.csv')\n",
        "champion = pd.read_csv('champion_binary.csv')"
      ]
    },
    {
      "cell_type": "code",
      "execution_count": null,
      "metadata": {
        "id": "gk-iXgS-b-fS"
      },
      "outputs": [],
      "source": [
        "# prompt: players_stats and vorp have the same players, randomly split the dataset into train and test sets where player_stats are the input and vorp is the label. Players in both sets should be the same. Set the indexing of the pd df to start from 0\n",
        "\n",
        "# from sklearn.model_selection import train_test_split\n",
        "# train_data, test_data, train_labels, test_labels = train_test_split(team_stats, champion, test_size=0.25, random_state=42)\n",
        "\n",
        "# train_data.index = range(len(train_data))\n",
        "# train_labels.index = range(len(train_labels))\n",
        "# test_data.index = range(len(test_data))\n",
        "# test_labels.index = range(len(test_labels))\n"
      ]
    },
    {
      "cell_type": "code",
      "source": [
        "train_data = team_stats[team_stats['Year'] < 2013]\n",
        "test_data = team_stats[team_stats['Year'] > 2014]\n",
        "train_labels = champion[champion['Year'] < 2013]\n",
        "test_labels = champion[champion['Year'] > 2014]"
      ],
      "metadata": {
        "id": "daMfjkTBY6hn"
      },
      "execution_count": null,
      "outputs": []
    },
    {
      "cell_type": "code",
      "execution_count": null,
      "metadata": {
        "id": "VhFgg_rkjdg5"
      },
      "outputs": [],
      "source": [
        "train_data.index = range(len(train_data))\n",
        "train_labels.index = range(len(train_labels))\n",
        "test_data.index = range(len(test_data))\n",
        "test_labels.index = range(len(test_labels))"
      ]
    },
    {
      "cell_type": "markdown",
      "metadata": {
        "id": "M6_uYijTisK4"
      },
      "source": [
        "## Convert Tabular Data to Text Input"
      ]
    },
    {
      "cell_type": "code",
      "source": [
        "train_data.iloc[0]['won_last']"
      ],
      "metadata": {
        "colab": {
          "base_uri": "https://localhost:8080/",
          "height": 35
        },
        "id": "PcXwQPeevaos",
        "outputId": "d4c6a2c8-6750-40af-a3f7-7bd07aa38b08"
      },
      "execution_count": null,
      "outputs": [
        {
          "output_type": "execute_result",
          "data": {
            "text/plain": [
              "'N'"
            ],
            "application/vnd.google.colaboratory.intrinsic+json": {
              "type": "string"
            }
          },
          "metadata": {},
          "execution_count": 55
        }
      ]
    },
    {
      "cell_type": "code",
      "execution_count": null,
      "metadata": {
        "id": "zf4rfPOxiUxW"
      },
      "outputs": [],
      "source": [
        "training_inputs = []\n",
        "\n",
        "# Miami Heat in 2013 has average Age: 30.3, MOV: 7.87, NRtg: 8.6, TS: 0.588, Win Percentage: 0.805, and won last year's championship.\n",
        "for index, row in train_data.iterrows():\n",
        "  # Will include more in future\n",
        "  won_last = 'did not win' if row['won_last'] == 'N' else 'won'\n",
        "  train_input = f\"{row['Team']} in {row['Year']} has average Age: {row['Age']}, MOV: {row['MOV']}, NRtg: {row['NRtg']}, TS: {row['TS%']}, Win Percentage: {row['W/L%']} and {won_last} last year's championship\"\n",
        "  training_inputs.append(train_input)\n",
        "\n",
        "training_labels = []\n",
        "for _,row in train_labels.iterrows():\n",
        "  # Will include more in future\n",
        "  train_label = f\"{row['Champion']}\"\n",
        "  training_labels.append(int(train_label))"
      ]
    },
    {
      "cell_type": "code",
      "execution_count": null,
      "metadata": {
        "id": "c2o_QT3uj-Fo"
      },
      "outputs": [],
      "source": [
        "# Initialize empty lists for test inputs and labels\n",
        "testing_inputs = []\n",
        "testing_labels = []\n",
        "\n",
        "# Loop through test_data for inputs\n",
        "for index, row in test_data.iterrows():\n",
        "    # Will include more in the future\n",
        "    won_last = 'did not win' if row['won_last'] == 'N' else 'won'\n",
        "    test_input = f\"{row['Team']} in {row['Year']} has average Age: {row['Age']}, MOV: {row['MOV']}, NRtg: {row['NRtg']}, TS: {row['TS%']}, Win Percentage: {row['W/L%']} and {won_last} last year's championship\"\n",
        "    testing_inputs.append(test_input)\n",
        "\n",
        "# Loop through test_labels for labels\n",
        "for _, row in test_labels.iterrows():\n",
        "    # Will include more in the future\n",
        "    test_label = f\"{row['Champion']}\"\n",
        "    testing_labels.append(int(test_label))\n"
      ]
    },
    {
      "cell_type": "code",
      "execution_count": null,
      "metadata": {
        "colab": {
          "base_uri": "https://localhost:8080/"
        },
        "id": "cAvMKsrEjVkz",
        "outputId": "073a491d-43ca-43e5-f0a9-9c43a3456a26"
      },
      "outputs": [
        {
          "output_type": "execute_result",
          "data": {
            "text/plain": [
              "663"
            ]
          },
          "metadata": {},
          "execution_count": 58
        }
      ],
      "source": [
        "len(training_inputs)"
      ]
    },
    {
      "cell_type": "code",
      "execution_count": null,
      "metadata": {
        "id": "i6lveNA0lCdJ"
      },
      "outputs": [],
      "source": []
    },
    {
      "cell_type": "markdown",
      "metadata": {
        "id": "neyxIkCAGd7Q"
      },
      "source": [
        "# Define Model and Start Training"
      ]
    },
    {
      "cell_type": "code",
      "execution_count": null,
      "metadata": {
        "colab": {
          "base_uri": "https://localhost:8080/"
        },
        "id": "f_DXBgVqlEbY",
        "outputId": "8ebfc8f3-e8cc-4490-c3af-2d8313558cb4"
      },
      "outputs": [
        {
          "output_type": "stream",
          "name": "stderr",
          "text": [
            "Some weights of GPT2ForSequenceClassification were not initialized from the model checkpoint at gpt2 and are newly initialized: ['score.weight']\n",
            "You should probably TRAIN this model on a down-stream task to be able to use it for predictions and inference.\n"
          ]
        }
      ],
      "source": [
        "model_name = \"gpt2-large\"  # or other sizes like \"gpt2-medium\", \"gpt2-large\", etc.\n",
        "tokenizer = GPT2Tokenizer.from_pretrained(model_name)\n",
        "tokenizer.pad_token = tokenizer.eos_token\n",
        "model = GPT2ForSequenceClassification.from_pretrained(\"gpt2\", num_labels=2, pad_token_id=tokenizer.pad_token_id)\n",
        "model.cuda()\n",
        "\n",
        "\n",
        "\n",
        "tokenized_training_data = tokenizer(training_inputs, padding=True)\n",
        "tokenized_testing_data = tokenizer(testing_inputs, padding=True)"
      ]
    },
    {
      "cell_type": "code",
      "execution_count": null,
      "metadata": {
        "id": "1TxYUsKylJ7t"
      },
      "outputs": [],
      "source": []
    },
    {
      "cell_type": "code",
      "execution_count": null,
      "metadata": {
        "id": "Vyve-SwalYEO"
      },
      "outputs": [],
      "source": [
        "class Dataset(Dataset):\n",
        "    def __init__(self, tokenized_data, labels):\n",
        "        self.tokenized_data = tokenized_data\n",
        "        self.labels = labels\n",
        "\n",
        "    def __len__(self):\n",
        "        return len(self.tokenized_data[\"input_ids\"])\n",
        "\n",
        "    def __getitem__(self, idx):\n",
        "        item = {key: torch.tensor(val[idx]) for key, val in self.tokenized_data.items()}\n",
        "\n",
        "        item[\"labels\"] = torch.tensor(self.labels[idx])\n",
        "\n",
        "        return item"
      ]
    },
    {
      "cell_type": "code",
      "execution_count": null,
      "metadata": {
        "id": "Q8aWDbSilaM8"
      },
      "outputs": [],
      "source": [
        "# Define training dataset\n",
        "training_dataset = Dataset(tokenized_training_data, training_labels)\n",
        "testing_dataset = Dataset(tokenized_testing_data, testing_labels)"
      ]
    },
    {
      "cell_type": "code",
      "execution_count": null,
      "metadata": {
        "colab": {
          "base_uri": "https://localhost:8080/"
        },
        "id": "Btkj1fDIMDKL",
        "outputId": "bb31474f-1628-45e6-9e3c-31d9c5dcd5f8"
      },
      "outputs": [
        {
          "output_type": "execute_result",
          "data": {
            "text/plain": [
              "663"
            ]
          },
          "metadata": {},
          "execution_count": 62
        }
      ],
      "source": [
        "len(training_dataset)"
      ]
    },
    {
      "cell_type": "code",
      "execution_count": null,
      "metadata": {
        "id": "3qiw_BoCLU2D"
      },
      "outputs": [],
      "source": [
        "from transformers import TextDataset, DataCollatorForLanguageModeling, Trainer, TrainingArguments\n",
        "import numpy as np\n",
        "from sklearn.metrics import accuracy_score, recall_score, precision_score, f1_score\n",
        "import torch.nn as nn"
      ]
    },
    {
      "cell_type": "code",
      "source": [
        "class CustomTrainer(Trainer):\n",
        "    def compute_loss(self, model, inputs, return_outputs=False):\n",
        "        labels = inputs.pop(\"labels\")\n",
        "        # forward pass\n",
        "        outputs = model(**inputs)\n",
        "        logits = outputs.get(\"logits\")\n",
        "\n",
        "        # compute custom loss (suppose one has 3 labels with different weights)\n",
        "        loss_fct = nn.CrossEntropyLoss(weight=torch.tensor([1.0, 29.0], device=model.device))\n",
        "        loss = loss_fct(logits.view(-1, self.model.config.num_labels), labels.view(-1))\n",
        "        return (loss, outputs) if return_outputs else loss"
      ],
      "metadata": {
        "id": "3DKX3YHrXbv6"
      },
      "execution_count": null,
      "outputs": []
    },
    {
      "cell_type": "code",
      "source": [
        "def compute_metrics(p):\n",
        "\n",
        "    pred, labels = p\n",
        "    pred = np.argmax(pred, axis=1)\n",
        "\n",
        "    accuracy = accuracy_score(y_true=labels, y_pred=pred)\n",
        "    recall = recall_score(y_true=labels, y_pred=pred)\n",
        "    precision = precision_score(y_true=labels, y_pred=pred)\n",
        "    f1 = f1_score(y_true=labels, y_pred=pred)\n",
        "\n",
        "    return {\"accuracy\": accuracy, \"recall\": recall, \"f1\": f1}"
      ],
      "metadata": {
        "id": "Col1x5GmYOdh"
      },
      "execution_count": null,
      "outputs": []
    },
    {
      "cell_type": "code",
      "execution_count": null,
      "metadata": {
        "colab": {
          "base_uri": "https://localhost:8080/",
          "height": 266
        },
        "id": "FXOOUBa_leGZ",
        "outputId": "4f735ab7-6697-4bb4-c9b9-465668dc1425"
      },
      "outputs": [
        {
          "output_type": "display_data",
          "data": {
            "text/plain": [
              "<IPython.core.display.HTML object>"
            ],
            "text/html": [
              "\n",
              "    <div>\n",
              "      \n",
              "      <progress value='55' max='55' style='width:300px; height:20px; vertical-align: middle;'></progress>\n",
              "      [55/55 00:41, Epoch 5/5]\n",
              "    </div>\n",
              "    <table border=\"1\" class=\"dataframe\">\n",
              "  <thead>\n",
              " <tr style=\"text-align: left;\">\n",
              "      <th>Epoch</th>\n",
              "      <th>Training Loss</th>\n",
              "      <th>Validation Loss</th>\n",
              "      <th>Accuracy</th>\n",
              "      <th>Recall</th>\n",
              "      <th>F1</th>\n",
              "    </tr>\n",
              "  </thead>\n",
              "  <tbody>\n",
              "    <tr>\n",
              "      <td>1</td>\n",
              "      <td>No log</td>\n",
              "      <td>0.729313</td>\n",
              "      <td>0.941667</td>\n",
              "      <td>0.125000</td>\n",
              "      <td>0.125000</td>\n",
              "    </tr>\n",
              "    <tr>\n",
              "      <td>2</td>\n",
              "      <td>No log</td>\n",
              "      <td>0.743768</td>\n",
              "      <td>0.941667</td>\n",
              "      <td>0.125000</td>\n",
              "      <td>0.125000</td>\n",
              "    </tr>\n",
              "    <tr>\n",
              "      <td>3</td>\n",
              "      <td>No log</td>\n",
              "      <td>0.623437</td>\n",
              "      <td>0.758333</td>\n",
              "      <td>0.750000</td>\n",
              "      <td>0.171429</td>\n",
              "    </tr>\n",
              "    <tr>\n",
              "      <td>4</td>\n",
              "      <td>No log</td>\n",
              "      <td>0.679298</td>\n",
              "      <td>0.937500</td>\n",
              "      <td>0.125000</td>\n",
              "      <td>0.117647</td>\n",
              "    </tr>\n",
              "    <tr>\n",
              "      <td>5</td>\n",
              "      <td>No log</td>\n",
              "      <td>0.641456</td>\n",
              "      <td>0.937500</td>\n",
              "      <td>0.250000</td>\n",
              "      <td>0.210526</td>\n",
              "    </tr>\n",
              "  </tbody>\n",
              "</table><p>"
            ]
          },
          "metadata": {}
        },
        {
          "output_type": "execute_result",
          "data": {
            "text/plain": [
              "TrainOutput(global_step=55, training_loss=0.617727314342152, metrics={'train_runtime': 42.4065, 'train_samples_per_second': 78.172, 'train_steps_per_second': 1.297, 'total_flos': 99815869071360.0, 'train_loss': 0.617727314342152, 'epoch': 5.0})"
            ]
          },
          "metadata": {},
          "execution_count": 66
        }
      ],
      "source": [
        "# Define training arguments\n",
        "training_args = TrainingArguments(\n",
        "    output_dir=\"output\",\n",
        "    evaluation_strategy=\"epoch\",\n",
        "    learning_rate=2e-5,\n",
        "    per_device_train_batch_size=64,\n",
        "    per_device_eval_batch_size=64,\n",
        "    num_train_epochs=5,\n",
        "    seed=0\n",
        ")\n",
        "\n",
        "\n",
        "# Initialize the Trainer\n",
        "trainer = CustomTrainer(\n",
        "    model=model,\n",
        "    args=training_args,\n",
        "    train_dataset=training_dataset,\n",
        "    eval_dataset=testing_dataset,\n",
        "    compute_metrics=compute_metrics\n",
        ")\n",
        "\n",
        "# Start fine-tuning\n",
        "trainer.train()"
      ]
    },
    {
      "cell_type": "code",
      "execution_count": null,
      "metadata": {
        "id": "KmXiuezxTODe"
      },
      "outputs": [],
      "source": []
    },
    {
      "cell_type": "code",
      "execution_count": null,
      "metadata": {
        "id": "9asTRFHJVtiN"
      },
      "outputs": [],
      "source": [
        "# count = 0\n",
        "# total = 0\n",
        "# batch_size = 64\n",
        "\n",
        "# model = GPT2ForSequenceClassification.from_pretrained(\"gpt2\", num_labels=2, pad_token_id=tokenizer.pad_token_id)\n",
        "\n",
        "\n",
        "# model = model.cuda()\n",
        "# for i in range(0, len(testing_inputs), batch_size):\n",
        "#     sentences = testing_inputs[i:i+batch_size]\n",
        "#     labels = torch.tensor(testing_labels[i:i+batch_size])\n",
        "#     t = tokenizer(sentences, return_tensors=\"pt\", padding = True)\n",
        "#     t = {key: val.cuda() for key, val in t.items()}\n",
        "\n",
        "#     pred = model.forward(**t).logits.argmax(-1).detach().cpu()\n",
        "\n",
        "\n",
        "#     count += (pred == labels).sum()\n",
        "\n",
        "\n",
        "# print(count)\n",
        "# print(len(testing_inputs))"
      ]
    },
    {
      "cell_type": "code",
      "execution_count": null,
      "metadata": {
        "id": "sqhqSUPGWRlD",
        "colab": {
          "base_uri": "https://localhost:8080/"
        },
        "outputId": "e9367663-ba6b-4162-9cb6-13d1949afdc7"
      },
      "outputs": [
        {
          "output_type": "stream",
          "name": "stdout",
          "text": [
            "2 223 9 6\n",
            "Accuracy: 0.9375\n",
            "Precision: 0.18181818181818182\n",
            "Recall: 0.25\n",
            "F1 Score: 0.2105263157894737\n"
          ]
        }
      ],
      "source": [
        "count = 0\n",
        "total = 0\n",
        "batch_size = 64\n",
        "\n",
        "TP, FP, TN, FN = 0, 0, 0, 0\n",
        "\n",
        "# model = GPT2ForSequenceClassification.from_pretrained(\"gpt2\", num_labels=2, pad_token_id=tokenizer.pad_token_id)\n",
        "model = model.cuda()\n",
        "\n",
        "for i in range(0, len(testing_inputs), batch_size):\n",
        "    sentences = testing_inputs[i:i + batch_size]\n",
        "    labels = torch.tensor(testing_labels[i:i + batch_size])\n",
        "    t = tokenizer(sentences, return_tensors=\"pt\", padding=True)\n",
        "    t = {key: val.cuda() for key, val in t.items()}\n",
        "\n",
        "    pred = model.forward(**t).logits.argmax(-1).detach().cpu()\n",
        "\n",
        "    TP += ((pred == 1) & (labels == 1)).sum().item()\n",
        "    TN += ((pred == 0) & (labels == 0)).sum().item()\n",
        "    FP += ((pred == 1) & (labels == 0)).sum().item()\n",
        "    FN += ((pred == 0) & (labels == 1)).sum().item()\n",
        "\n",
        "# Calculating the metrics\n",
        "accuracy = (TP + TN) / (TP + TN + FP + FN)\n",
        "precision = TP / (TP + FP) if (TP + FP) > 0 else 0\n",
        "recall = TP / (TP + FN) if (TP + FN) > 0 else 0\n",
        "f1_score = 2 * (precision * recall) / (precision + recall) if (precision + recall) > 0 else 0\n",
        "\n",
        "print(TP, TN, FP, FN)\n",
        "\n",
        "print(f\"Accuracy: {accuracy}\")\n",
        "print(f\"Precision: {precision}\")\n",
        "print(f\"Recall: {recall}\")\n",
        "print(f\"F1 Score: {f1_score}\")"
      ]
    },
    {
      "cell_type": "code",
      "source": [
        "import torch.nn.functional as F"
      ],
      "metadata": {
        "id": "3YZSRBkmYnDF"
      },
      "execution_count": null,
      "outputs": []
    },
    {
      "cell_type": "code",
      "source": [
        "count = 0\n",
        "total = 0\n",
        "batch_size = 30\n",
        "\n",
        "TP, FP, TN, FN = 0, 0, 0, 0\n",
        "\n",
        "# model = GPT2ForSequenceClassification.from_pretrained(\"gpt2\", num_labels=2, pad_token_id=tokenizer.pad_token_id)\n",
        "model = model.cuda()\n",
        "\n",
        "for i in range(0, len(testing_inputs), batch_size):\n",
        "    sentences = testing_inputs[i:i + batch_size]\n",
        "    labels = torch.tensor(testing_labels[i:i + batch_size])\n",
        "    t = tokenizer(sentences, return_tensors=\"pt\", padding=True)\n",
        "    t = {key: val.cuda() for key, val in t.items()}\n",
        "\n",
        "    champion_preds = model.forward(**t).logits.detach().cpu()[:,1]\n",
        "    champion_probs = F.softmax(champion_preds, dim=0)\n",
        "\n",
        "    predicted_champion = torch.topk(champion_preds, 3).indices\n",
        "    predicted_probs = champion_probs[predicted_champion]\n",
        "\n",
        "    print(testing_inputs[i + predicted_champion[0]])\n",
        "    print(testing_inputs[i + predicted_champion[1]])\n",
        "    print(testing_inputs[i + predicted_champion[2]])\n",
        "    print(predicted_probs)\n",
        "    print()"
      ],
      "metadata": {
        "colab": {
          "base_uri": "https://localhost:8080/"
        },
        "id": "Vh-6d2eZYlqe",
        "outputId": "af65f006-d894-4e97-971b-2dd7ea7b2c18"
      },
      "execution_count": null,
      "outputs": [
        {
          "output_type": "stream",
          "name": "stdout",
          "text": [
            "San Antonio Spurs in 2015.0 has average Age: 29.8, MOV: 6.2, NRtg: 6.5, TS: 0.555, Win Percentage: 0.670731707317073 and won last year's championship\n",
            "Memphis Grizzlies in 2015.0 has average Age: 29.6, MOV: 3.24, NRtg: 3.5, TS: 0.531, Win Percentage: 0.670731707317073 and did not win last year's championship\n",
            "Golden State Warriors in 2015.0 has average Age: 26.6, MOV: 10.1, NRtg: 10.2, TS: 0.571, Win Percentage: 0.817073170731707 and did not win last year's championship\n",
            "tensor([0.8583, 0.0108, 0.0089])\n",
            "\n",
            "Golden State Warriors in 2016.0 has average Age: 27.4, MOV: 10.76, NRtg: 10.7, TS: 0.593, Win Percentage: 0.890243902439024 and won last year's championship\n",
            "San Antonio Spurs in 2016.0 has average Age: 30.3, MOV: 10.63, NRtg: 11.3, TS: 0.564, Win Percentage: 0.817073170731707 and did not win last year's championship\n",
            "Los Angeles Lakers in 2016.0 has average Age: 26.5, MOV: -9.56, NRtg: -10.0, TS: 0.509, Win Percentage: 0.207317073170732 and did not win last year's championship\n",
            "tensor([0.4335, 0.0834, 0.0373])\n",
            "\n",
            "Cleveland Cavaliers in 2017.0 has average Age: 29.2, MOV: 3.18, NRtg: 3.3, TS: 0.58, Win Percentage: 0.621951219512195 and won last year's championship\n",
            "Houston Rockets in 2017.0 has average Age: 27.4, MOV: 5.77, NRtg: 5.7, TS: 0.583, Win Percentage: 0.670731707317073 and did not win last year's championship\n",
            "Golden State Warriors in 2017.0 has average Age: 28.2, MOV: 11.63, NRtg: 11.6, TS: 0.597, Win Percentage: 0.817073170731707 and did not win last year's championship\n",
            "tensor([0.4445, 0.0381, 0.0356])\n",
            "\n",
            "Golden State Warriors in 2018.0 has average Age: 28.8, MOV: 5.98, NRtg: 6.0, TS: 0.603, Win Percentage: 0.707317073170732 and won last year's championship\n",
            "San Antonio Spurs in 2018.0 has average Age: 29.3, MOV: 2.89, NRtg: 3.1, TS: 0.543, Win Percentage: 0.573170731707317 and did not win last year's championship\n",
            "Minnesota Timberwolves in 2018.0 has average Age: 27.1, MOV: 2.23, NRtg: 2.3, TS: 0.566, Win Percentage: 0.573170731707317 and did not win last year's championship\n",
            "tensor([0.7620, 0.0237, 0.0161])\n",
            "\n",
            "Golden State Warriors in 2019.0 has average Age: 28.4, MOV: 6.46, NRtg: 6.4, TS: 0.596, Win Percentage: 0.695121951219512 and won last year's championship\n",
            "Toronto Raptors in 2019.0 has average Age: 27.3, MOV: 6.09, NRtg: 6.0, TS: 0.579, Win Percentage: 0.707317073170732 and did not win last year's championship\n",
            "Milwaukee Bucks in 2019.0 has average Age: 26.9, MOV: 8.87, NRtg: 8.6, TS: 0.583, Win Percentage: 0.731707317073171 and did not win last year's championship\n",
            "tensor([0.5042, 0.0610, 0.0262])\n",
            "\n",
            "Toronto Raptors in 2020.0 has average Age: 26.6, MOV: 6.24, NRtg: 6.1, TS: 0.574, Win Percentage: 0.736111111111111 and won last year's championship\n",
            "Miami Heat in 2020.0 has average Age: 25.9, MOV: 2.95, NRtg: 3.0, TS: 0.587, Win Percentage: 0.602739726027397 and did not win last year's championship\n",
            "San Antonio Spurs in 2020.0 has average Age: 27.6, MOV: -1.11, NRtg: -1.1, TS: 0.572, Win Percentage: 0.450704225352113 and did not win last year's championship\n",
            "tensor([0.4936, 0.0306, 0.0258])\n",
            "\n",
            "Los Angeles Lakers in 2021.0 has average Age: 28.2, MOV: 2.79, NRtg: 2.8, TS: 0.569, Win Percentage: 0.583333333333333 and won last year's championship\n",
            "San Antonio Spurs in 2021.0 has average Age: 26.2, MOV: -1.74, NRtg: -1.8, TS: 0.554, Win Percentage: 0.458333333333333 and did not win last year's championship\n",
            "Miami Heat in 2021.0 has average Age: 27.4, MOV: 0.03, NRtg: 0.0, TS: 0.581, Win Percentage: 0.555555555555556 and did not win last year's championship\n",
            "tensor([0.5976, 0.0216, 0.0207])\n",
            "\n",
            "Milwaukee Bucks in 2022.0 has average Age: 28.5, MOV: 3.35, NRtg: 3.3, TS: 0.58, Win Percentage: 0.621951219512195 and won last year's championship\n",
            "San Antonio Spurs in 2022.0 has average Age: 24.5, MOV: 0.12, NRtg: 0.1, TS: 0.556, Win Percentage: 0.414634146341463 and did not win last year's championship\n",
            "Miami Heat in 2022.0 has average Age: 28.2, MOV: 4.45, NRtg: 4.6, TS: 0.584, Win Percentage: 0.646341463414634 and did not win last year's championship\n",
            "tensor([0.4556, 0.0324, 0.0313])\n",
            "\n"
          ]
        }
      ]
    },
    {
      "cell_type": "code",
      "source": [],
      "metadata": {
        "id": "g6W8jJUfZCCH"
      },
      "execution_count": null,
      "outputs": []
    }
  ],
  "metadata": {
    "colab": {
      "provenance": [],
      "gpuType": "T4",
      "include_colab_link": true
    },
    "kernelspec": {
      "display_name": "Python 3",
      "name": "python3"
    },
    "language_info": {
      "name": "python"
    },
    "accelerator": "GPU"
  },
  "nbformat": 4,
  "nbformat_minor": 0
}